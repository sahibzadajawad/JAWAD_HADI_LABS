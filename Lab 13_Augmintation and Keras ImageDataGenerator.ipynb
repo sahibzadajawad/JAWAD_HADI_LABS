{
 "cells": [
  {
   "cell_type": "code",
   "execution_count": 1,
   "id": "e8e93ab7-474b-4d09-a947-e4151e0509de",
   "metadata": {},
   "outputs": [],
   "source": [
    "from tensorflow.keras import layers\n",
    "from tensorflow.keras import models\n",
    "from tensorflow.keras import optimizers\n",
    "from tensorflow.keras.preprocessing.image import ImageDataGenerator\n",
    "from tensorflow.keras.callbacks import ModelCheckpoint\n",
    "import matplotlib.pyplot as plt\n",
    "import numpy as np\n",
    "from tensorflow.keras.models import load_model\n",
    "from sklearn.metrics import confusion_matrix, ConfusionMatrixDisplay, classification_report\n",
    "import seaborn as sns"
   ]
  },
  {
   "cell_type": "code",
   "execution_count": 2,
   "id": "5e3a41db-612f-47e8-b3ed-a0bdea9f5f9b",
   "metadata": {},
   "outputs": [],
   "source": [
    "checkpoints = r'C:\\Users\\Hp\\Desktop\\ml labs\\check point\\\\E1-cp-{epoch:04d}-loss{val_loss:.2f}.h5'"
   ]
  },
  {
   "cell_type": "code",
   "execution_count": 3,
   "id": "2d1135f8-3051-452b-9b86-60a617f21203",
   "metadata": {},
   "outputs": [],
   "source": [
    "train_dir = r'D:\\eight semester\\plant disease dataset\\computer vision\\train'\n",
    "validation_dir = r'D:\\eight semester\\plant disease dataset\\computer vision\\validation'\n",
    "test_dir = r'D:\\eight semester\\plant disease dataset\\computer vision\\test'"
   ]
  },
  {
   "cell_type": "code",
   "execution_count": 4,
   "id": "1475f109-0ecc-45b8-b65b-32d0001c0aa5",
   "metadata": {},
   "outputs": [],
   "source": [
    "model = models.Sequential()\n",
    "model.add(layers.Conv2D(32, (3, 3), activation='relu',\n",
    "input_shape=(256, 256, 3)))\n",
    "model.add(layers.MaxPooling2D((2, 2)))\n",
    "model.add(layers.Conv2D(64, (3, 3), activation='relu'))\n",
    "model.add(layers.MaxPooling2D((2, 2)))\n",
    "model.add(layers.Conv2D(128, (3, 3), activation='relu'))\n",
    "model.add(layers.MaxPooling2D((2, 2)))\n",
    "model.add(layers.Conv2D(128, (3, 3), activation='relu'))\n",
    "model.add(layers.MaxPooling2D((2, 2)))\n",
    "model.add(layers.Flatten())\n",
    "model.add(layers.Dropout(0.5))\n",
    "model.add(layers.Dense(512, activation='relu'))\n",
    "model.add(layers.Dense(4, activation='sigmoid'))"
   ]
  },
  {
   "cell_type": "code",
   "execution_count": 5,
   "id": "637a321e-d117-4af5-87cd-c8b02571e042",
   "metadata": {
    "scrolled": true
   },
   "outputs": [
    {
     "name": "stdout",
     "output_type": "stream",
     "text": [
      "Model: \"sequential\"\n",
      "_________________________________________________________________\n",
      " Layer (type)                Output Shape              Param #   \n",
      "=================================================================\n",
      " conv2d (Conv2D)             (None, 254, 254, 32)      896       \n",
      "                                                                 \n",
      " max_pooling2d (MaxPooling2D  (None, 127, 127, 32)     0         \n",
      " )                                                               \n",
      "                                                                 \n",
      " conv2d_1 (Conv2D)           (None, 125, 125, 64)      18496     \n",
      "                                                                 \n",
      " max_pooling2d_1 (MaxPooling  (None, 62, 62, 64)       0         \n",
      " 2D)                                                             \n",
      "                                                                 \n",
      " conv2d_2 (Conv2D)           (None, 60, 60, 128)       73856     \n",
      "                                                                 \n",
      " max_pooling2d_2 (MaxPooling  (None, 30, 30, 128)      0         \n",
      " 2D)                                                             \n",
      "                                                                 \n",
      " conv2d_3 (Conv2D)           (None, 28, 28, 128)       147584    \n",
      "                                                                 \n",
      " max_pooling2d_3 (MaxPooling  (None, 14, 14, 128)      0         \n",
      " 2D)                                                             \n",
      "                                                                 \n",
      " flatten (Flatten)           (None, 25088)             0         \n",
      "                                                                 \n",
      " dropout (Dropout)           (None, 25088)             0         \n",
      "                                                                 \n",
      " dense (Dense)               (None, 512)               12845568  \n",
      "                                                                 \n",
      " dense_1 (Dense)             (None, 4)                 2052      \n",
      "                                                                 \n",
      "=================================================================\n",
      "Total params: 13,088,452\n",
      "Trainable params: 13,088,452\n",
      "Non-trainable params: 0\n",
      "_________________________________________________________________\n"
     ]
    }
   ],
   "source": [
    "model.summary()"
   ]
  },
  {
   "cell_type": "code",
   "execution_count": 6,
   "id": "7410b299-32c4-4691-91e9-658273d059b0",
   "metadata": {},
   "outputs": [
    {
     "name": "stderr",
     "output_type": "stream",
     "text": [
      "D:\\7th semester\\anaconda\\envs\\jawadhadi\\lib\\site-packages\\keras\\optimizers\\optimizer_v2\\rmsprop.py:140: UserWarning: The `lr` argument is deprecated, use `learning_rate` instead.\n",
      "  super().__init__(name, **kwargs)\n"
     ]
    }
   ],
   "source": [
    "model.compile(loss='categorical_crossentropy', optimizer=optimizers.RMSprop(lr=1e-4), metrics=['acc'])"
   ]
  },
  {
   "cell_type": "code",
   "execution_count": 7,
   "id": "c4870907-311d-45f8-b70e-6717b1d0e232",
   "metadata": {},
   "outputs": [
    {
     "name": "stdout",
     "output_type": "stream",
     "text": [
      "Found 1600 images belonging to 4 classes.\n",
      "Found 252 images belonging to 4 classes.\n"
     ]
    }
   ],
   "source": [
    "train_datagen = ImageDataGenerator(\n",
    "                                    rescale=1./255,\n",
    "                                    rotation_range=40,\n",
    "                                    width_shift_range=0.2,\n",
    "                                    height_shift_range=0.2,\n",
    "                                    shear_range=0.2,\n",
    "                                    zoom_range=0.2,\n",
    "                                    horizontal_flip=True)\n",
    "\n",
    "test_datagen = ImageDataGenerator(rescale=1./255)\n",
    "\n",
    "train_generator = train_datagen.flow_from_directory(\n",
    "                                                    train_dir,\n",
    "                                                    target_size=(256, 256),\n",
    "                                                    batch_size=32,\n",
    "                                                    class_mode='categorical')\n",
    "\n",
    "validation_generator = test_datagen.flow_from_directory(\n",
    "                                                        validation_dir,\n",
    "                                                        target_size=(256, 256),\n",
    "                                                        batch_size=32,\n",
    "                                                        class_mode='categorical')"
   ]
  },
  {
   "cell_type": "code",
   "execution_count": 8,
   "id": "fa0c6a76-7bc1-491f-985d-fd9ee4de1a47",
   "metadata": {},
   "outputs": [
    {
     "name": "stdout",
     "output_type": "stream",
     "text": [
      "Found 1600 images belonging to 4 classes.\n",
      "Found 252 images belonging to 4 classes.\n"
     ]
    }
   ],
   "source": [
    "train_datagen = ImageDataGenerator(rescale=1./255)\n",
    "test_datagen = ImageDataGenerator(rescale=1./255)\n",
    "train_generator = train_datagen.flow_from_directory(train_dir, target_size=(256, 256), batch_size=32,class_mode='categorical')\n",
    "validation_generator = test_datagen.flow_from_directory(validation_dir,target_size=(256, 256),batch_size=32,class_mode='categorical')"
   ]
  },
  {
   "cell_type": "code",
   "execution_count": 9,
   "id": "2f6c8a4e-4935-4af3-8f7f-73bfe65a750b",
   "metadata": {},
   "outputs": [],
   "source": [
    "EpochCheckpoint = ModelCheckpoint(checkpoints,\n",
    "                             monitor=\"val_loss\",\n",
    "                             save_best_only=True, \n",
    "                             verbose=1)\n",
    "callbacks = [EpochCheckpoint]"
   ]
  },
  {
   "cell_type": "code",
   "execution_count": 10,
   "id": "9948fcda-c7b5-4f87-b1b1-f5dbcbe82cef",
   "metadata": {},
   "outputs": [
    {
     "name": "stdout",
     "output_type": "stream",
     "text": [
      "Epoch 1/8\n",
      "50/50 [==============================] - ETA: 0s - loss: 0.8476 - acc: 0.6150\n",
      "Epoch 1: val_loss improved from inf to 0.55886, saving model to C:\\Users\\Hp\\Desktop\\ml labs\\check point\\E1-cp-0001-loss0.56.h5\n",
      "50/50 [==============================] - 305s 6s/step - loss: 0.8476 - acc: 0.6150 - val_loss: 0.5589 - val_acc: 0.7366\n",
      "Epoch 2/8\n",
      "50/50 [==============================] - ETA: 0s - loss: 0.4835 - acc: 0.7769\n",
      "Epoch 2: val_loss improved from 0.55886 to 0.45032, saving model to C:\\Users\\Hp\\Desktop\\ml labs\\check point\\E1-cp-0002-loss0.45.h5\n",
      "50/50 [==============================] - 286s 6s/step - loss: 0.4835 - acc: 0.7769 - val_loss: 0.4503 - val_acc: 0.7411\n",
      "Epoch 3/8\n",
      "50/50 [==============================] - ETA: 0s - loss: 0.4167 - acc: 0.8037\n",
      "Epoch 3: val_loss did not improve from 0.45032\n",
      "50/50 [==============================] - 283s 6s/step - loss: 0.4167 - acc: 0.8037 - val_loss: 0.4702 - val_acc: 0.7857\n",
      "Epoch 4/8\n",
      "50/50 [==============================] - ETA: 0s - loss: 0.3552 - acc: 0.8344\n",
      "Epoch 4: val_loss improved from 0.45032 to 0.33194, saving model to C:\\Users\\Hp\\Desktop\\ml labs\\check point\\E1-cp-0004-loss0.33.h5\n",
      "50/50 [==============================] - 278s 6s/step - loss: 0.3552 - acc: 0.8344 - val_loss: 0.3319 - val_acc: 0.8125\n",
      "Epoch 5/8\n",
      "50/50 [==============================] - ETA: 0s - loss: 0.2962 - acc: 0.8581\n",
      "Epoch 5: val_loss improved from 0.33194 to 0.30930, saving model to C:\\Users\\Hp\\Desktop\\ml labs\\check point\\E1-cp-0005-loss0.31.h5\n",
      "50/50 [==============================] - 272s 5s/step - loss: 0.2962 - acc: 0.8581 - val_loss: 0.3093 - val_acc: 0.8527\n",
      "Epoch 6/8\n",
      "50/50 [==============================] - ETA: 0s - loss: 0.2795 - acc: 0.8681\n",
      "Epoch 6: val_loss improved from 0.30930 to 0.27951, saving model to C:\\Users\\Hp\\Desktop\\ml labs\\check point\\E1-cp-0006-loss0.28.h5\n",
      "50/50 [==============================] - 270s 5s/step - loss: 0.2795 - acc: 0.8681 - val_loss: 0.2795 - val_acc: 0.8661\n",
      "Epoch 7/8\n",
      "50/50 [==============================] - ETA: 0s - loss: 0.2534 - acc: 0.8844\n",
      "Epoch 7: val_loss improved from 0.27951 to 0.25499, saving model to C:\\Users\\Hp\\Desktop\\ml labs\\check point\\E1-cp-0007-loss0.25.h5\n",
      "50/50 [==============================] - 272s 5s/step - loss: 0.2534 - acc: 0.8844 - val_loss: 0.2550 - val_acc: 0.8750\n",
      "Epoch 8/8\n",
      "50/50 [==============================] - ETA: 0s - loss: 0.2403 - acc: 0.8919\n",
      "Epoch 8: val_loss did not improve from 0.25499\n",
      "50/50 [==============================] - 289s 6s/step - loss: 0.2403 - acc: 0.8919 - val_loss: 0.3284 - val_acc: 0.8259\n"
     ]
    }
   ],
   "source": [
    "model_history = model.fit(train_generator,\n",
    "                         validation_data =validation_generator,\n",
    "                         steps_per_epoch=train_generator.n//train_generator.batch_size,\n",
    "                         validation_steps = validation_generator.n//validation_generator.batch_size,\n",
    "                         epochs = 8,\n",
    "                         callbacks = callbacks)"
   ]
  },
  {
   "cell_type": "code",
   "execution_count": 11,
   "id": "0713be23-bab6-4d1a-9fd3-11c74fc31474",
   "metadata": {},
   "outputs": [
    {
     "data": {
      "text/plain": [
       "{'loss': [0.8753505945205688,\n",
       "  0.4798744320869446,\n",
       "  0.36466243863105774,\n",
       "  0.301390141248703,\n",
       "  0.27842977643013,\n",
       "  0.24325057864189148,\n",
       "  0.20581482350826263,\n",
       "  0.1808222383260727,\n",
       "  0.1814872771501541,\n",
       "  0.164246067404747,\n",
       "  0.16185344755649567,\n",
       "  0.12393712997436523,\n",
       "  0.13090483844280243,\n",
       "  0.11855912953615189,\n",
       "  0.11614817380905151,\n",
       "  0.09477021545171738,\n",
       "  0.08216279000043869,\n",
       "  0.08734211325645447,\n",
       "  0.07450011372566223,\n",
       "  0.06624019891023636,\n",
       "  0.05356349050998688,\n",
       "  0.055808164179325104,\n",
       "  0.04631183296442032,\n",
       "  0.043280038982629776,\n",
       "  0.04132638871669769,\n",
       "  0.03553116321563721,\n",
       "  0.03638863191008568,\n",
       "  0.037737537175416946,\n",
       "  0.033291060477495193,\n",
       "  0.025195477530360222,\n",
       "  0.045887261629104614,\n",
       "  0.020918823778629303,\n",
       "  0.020627062767744064,\n",
       "  0.026452986523509026,\n",
       "  0.02933582477271557,\n",
       "  0.020180946215987206,\n",
       "  0.014986587688326836,\n",
       "  0.031100960448384285,\n",
       "  0.03571275621652603,\n",
       "  0.006369301117956638],\n",
       " 'acc': [0.5950000286102295,\n",
       "  0.7774999737739563,\n",
       "  0.8256250023841858,\n",
       "  0.8612499833106995,\n",
       "  0.875,\n",
       "  0.887499988079071,\n",
       "  0.9012500047683716,\n",
       "  0.9312499761581421,\n",
       "  0.9287499785423279,\n",
       "  0.9350000023841858,\n",
       "  0.9300000071525574,\n",
       "  0.9474999904632568,\n",
       "  0.9487500190734863,\n",
       "  0.9474999904632568,\n",
       "  0.9556249976158142,\n",
       "  0.9643750190734863,\n",
       "  0.9706249833106995,\n",
       "  0.9649999737739563,\n",
       "  0.9725000262260437,\n",
       "  0.9756249785423279,\n",
       "  0.9818750023841858,\n",
       "  0.9818750023841858,\n",
       "  0.984375,\n",
       "  0.984375,\n",
       "  0.9893749952316284,\n",
       "  0.9887499809265137,\n",
       "  0.9900000095367432,\n",
       "  0.9868749976158142,\n",
       "  0.9918749928474426,\n",
       "  0.9900000095367432,\n",
       "  0.9868749976158142,\n",
       "  0.9956250190734863,\n",
       "  0.9931250214576721,\n",
       "  0.9925000071525574,\n",
       "  0.9881250262260437,\n",
       "  0.9918749928474426,\n",
       "  0.996874988079071,\n",
       "  0.9931250214576721,\n",
       "  0.9906250238418579,\n",
       "  0.9981250166893005],\n",
       " 'val_loss': [0.4793722927570343,\n",
       "  0.34312042593955994,\n",
       "  0.34562140703201294,\n",
       "  0.31987521052360535,\n",
       "  0.24429884552955627,\n",
       "  0.35078558325767517,\n",
       "  0.2524198591709137,\n",
       "  0.20420634746551514,\n",
       "  0.22985637187957764,\n",
       "  0.24738380312919617,\n",
       "  0.20286568999290466,\n",
       "  0.27678126096725464,\n",
       "  0.331180602312088,\n",
       "  0.2158324420452118,\n",
       "  0.20015980303287506,\n",
       "  0.21227513253688812,\n",
       "  0.2363906055688858,\n",
       "  0.21642591059207916,\n",
       "  0.2617492973804474,\n",
       "  0.21505878865718842,\n",
       "  0.26008230447769165,\n",
       "  0.24935437738895416,\n",
       "  0.22442196309566498,\n",
       "  0.26867344975471497,\n",
       "  0.2589338421821594,\n",
       "  0.3640548884868622,\n",
       "  0.29820486903190613,\n",
       "  0.27026015520095825,\n",
       "  0.3093646466732025,\n",
       "  0.36034607887268066,\n",
       "  0.35920506715774536,\n",
       "  0.3218626379966736,\n",
       "  0.34264659881591797,\n",
       "  0.47149160504341125,\n",
       "  0.4748523235321045,\n",
       "  0.38094621896743774,\n",
       "  0.4306481182575226,\n",
       "  0.40085598826408386,\n",
       "  0.3923376500606537,\n",
       "  0.6084097623825073],\n",
       " 'val_acc': [0.78125,\n",
       "  0.8616071343421936,\n",
       "  0.8214285969734192,\n",
       "  0.8258928656578064,\n",
       "  0.8973214030265808,\n",
       "  0.8392857313156128,\n",
       "  0.8794642686843872,\n",
       "  0.9017857313156128,\n",
       "  0.9017857313156128,\n",
       "  0.8839285969734192,\n",
       "  0.9017857313156128,\n",
       "  0.8883928656578064,\n",
       "  0.8616071343421936,\n",
       "  0.90625,\n",
       "  0.9107142686843872,\n",
       "  0.9196428656578064,\n",
       "  0.9017857313156128,\n",
       "  0.9151785969734192,\n",
       "  0.90625,\n",
       "  0.9464285969734192,\n",
       "  0.9151785969734192,\n",
       "  0.9017857313156128,\n",
       "  0.9196428656578064,\n",
       "  0.9017857313156128,\n",
       "  0.9285714030265808,\n",
       "  0.8928571343421936,\n",
       "  0.9107142686843872,\n",
       "  0.9196428656578064,\n",
       "  0.90625,\n",
       "  0.8973214030265808,\n",
       "  0.9017857313156128,\n",
       "  0.9017857313156128,\n",
       "  0.90625,\n",
       "  0.9107142686843872,\n",
       "  0.8839285969734192,\n",
       "  0.90625,\n",
       "  0.9017857313156128,\n",
       "  0.9241071343421936,\n",
       "  0.90625,\n",
       "  0.8705357313156128]}"
      ]
     },
     "execution_count": 11,
     "metadata": {},
     "output_type": "execute_result"
    }
   ],
   "source": [
    "model_history.history"
   ]
  },
  {
   "cell_type": "code",
   "execution_count": 27,
   "id": "8927ffc9-7ac7-43d9-acff-cfd4f306195a",
   "metadata": {},
   "outputs": [
    {
     "data": {
      "image/png": "[encoded data removed]",
      "text/plain": [
       "<Figure size 640x480 with 1 Axes>"
      ]
     },
     "metadata": {},
     "output_type": "display_data"
    },
    {
     "data": {
      "image/png": "[encoded data removed]",
      "text/plain": [
       "<Figure size 640x480 with 1 Axes>"
      ]
     },
     "metadata": {},
     "output_type": "display_data"
    },
    {
     "data": {
      "text/plain": [
       "<Figure size 640x480 with 0 Axes>"
      ]
     },
     "metadata": {},
     "output_type": "display_data"
    }
   ],
   "source": [
    "acc = model_history.history['acc']\n",
    "val_acc = model_history.history['val_acc']\n",
    "loss = model_history.history['loss']\n",
    "val_loss = model_history.history['val_loss']\n",
    "epochs = range(1, len(acc) + 1)\n",
    "plt.plot(epochs, acc, 'bo', label='Training acc')\n",
    "plt.plot(epochs, val_acc, 'b', label='Validation acc')\n",
    "plt.title('Training and validation accuracy')\n",
    "plt.legend()\n",
    "plt.figure()\n",
    "plt.plot(epochs, loss, 'bo', label='Training loss')\n",
    "plt.plot(epochs, val_loss, 'b', label='Validation loss')\n",
    "plt.title('Training and validation loss')\n",
    "plt.legend()\n",
    "plt.show()\n",
    "plt.savefig(r'D:\\eight semester\\plant disease dataset\\computer vision\\model_Accuracy\\model_Accuracy.png')"
   ]
  },
  {
   "cell_type": "code",
   "execution_count": 31,
   "id": "a41be203-be21-46b7-a78e-fdab1d343a3e",
   "metadata": {},
   "outputs": [
    {
     "name": "stdout",
     "output_type": "stream",
     "text": [
      "Found 200 images belonging to 4 classes.\n",
      "7/7 [==============================] - 9s 1s/step\n"
     ]
    },
    {
     "data": {
      "image/png": "[encoded data removed]",
      "text/plain": [
       "<Figure size 640x480 with 2 Axes>"
      ]
     },
     "metadata": {},
     "output_type": "display_data"
    }
   ],
   "source": [
    "model = load_model(r'C:\\Users\\Hp\\Desktop\\ml labs\\.ipynb_checkpoints\\check point\\E1-cp-0007-loss0.25.h5')\n",
    "test_datagen = ImageDataGenerator(rescale=1./255)\n",
    "test_generator = test_datagen.flow_from_directory(test_dir, target_size=(256, 256), batch_size=32, shuffle=False, class_mode='categorical')\n",
    "label=test_generator.labels\n",
    "preds=model.predict(test_generator)\n",
    "pred = np.argmax(preds, axis = 1)\n",
    "cm = confusion_matrix(label, pred)\n",
    "disp = ConfusionMatrixDisplay(confusion_matrix=cm,  display_labels=['Cercospora', 'common_rust','healthy', 'leaf_blight'])\n",
    "disp.plot()\n",
    "plt.show()\n",
    "#plt.savefig(r'C:\\Users\\Administrator\\Downloads\\ML Lab\\Computer vision\\lab11\\confusion_matrics.jpg')"
   ]
  },
  {
   "cell_type": "code",
   "execution_count": 32,
   "id": "97a5a818-29ad-41e7-9ced-34ea44990aae",
   "metadata": {},
   "outputs": [
    {
     "name": "stdout",
     "output_type": "stream",
     "text": [
      "              precision    recall  f1-score   support\n",
      "\n",
      "  Cercospora       0.79      0.82      0.80        50\n",
      " common_rust       1.00      1.00      1.00        50\n",
      "     healthy       1.00      1.00      1.00        50\n",
      " leaf_blight       0.81      0.78      0.80        50\n",
      "\n",
      "    accuracy                           0.90       200\n",
      "   macro avg       0.90      0.90      0.90       200\n",
      "weighted avg       0.90      0.90      0.90       200\n",
      "\n"
     ]
    }
   ],
   "source": [
    "print(classification_report(label, pred, target_names=['Cercospora', 'common_rust','healthy', 'leaf_blight']))"
   ]
  },
  {
   "cell_type": "code",
   "execution_count": null,
   "id": "f0203c59-720e-44de-acb8-7268016490df",
   "metadata": {},
   "outputs": [],
   "source": []
  },
  {
   "cell_type": "code",
   "execution_count": null,
   "id": "2692a333-666e-4c04-bbcd-24f84f922080",
   "metadata": {},
   "outputs": [],
   "source": []
  },
  {
   "cell_type": "code",
   "execution_count": null,
   "id": "26131bfd-1d60-4844-b99d-1b2bd0fd18ff",
   "metadata": {},
   "outputs": [],
   "source": []
  }
 ],
 "metadata": {
  "kernelspec": {
   "display_name": "Python 3 (ipykernel)",
   "language": "python",
   "name": "python3"
  },
  "language_info": {
   "codemirror_mode": {
    "name": "ipython",
    "version": 3
   },
   "file_extension": ".py",
   "mimetype": "text/x-python",
   "name": "python",
   "nbconvert_exporter": "python",
   "pygments_lexer": "ipython3",
   "version": "3.7.1"
  }
 },
 "nbformat": 4,
 "nbformat_minor": 5
}
