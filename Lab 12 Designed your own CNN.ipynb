{
 "cells": [
  {
   "cell_type": "code",
   "execution_count": 1,
   "id": "e8e93ab7-474b-4d09-a947-e4151e0509de",
   "metadata": {},
   "outputs": [],
   "source": [
    "from tensorflow.keras import layers\n",
    "from tensorflow.keras import models\n",
    "from tensorflow.keras import optimizers\n",
    "from tensorflow.keras.preprocessing.image import ImageDataGenerator\n",
    "from tensorflow.keras.callbacks import ModelCheckpoint\n",
    "import matplotlib.pyplot as plt\n",
    "import numpy as np\n",
    "from tensorflow.keras.models import load_model\n",
    "from sklearn.metrics import confusion_matrix, ConfusionMatrixDisplay, classification_report\n",
    "import seaborn as sns\n"
   ]
  },
  {
   "cell_type": "code",
   "execution_count": 11,
   "id": "5e3a41db-612f-47e8-b3ed-a0bdea9f5f9b",
   "metadata": {},
   "outputs": [],
   "source": [
    "checkpoints = r'C:\\Users\\Hp\\Desktop\\ml labs\\E1-cp-{epoch:04d}-loss{val_loss:.2f}.h5'"
   ]
  },
  {
   "cell_type": "code",
   "execution_count": 12,
   "id": "2d1135f8-3051-452b-9b86-60a617f21203",
   "metadata": {},
   "outputs": [],
   "source": [
    "train_dir = r'D:\\eight semester\\plant disease dataset\\computer vision\\train'\n",
    "validation_dir = r'D:\\eight semester\\plant disease dataset\\computer vision\\validation'\n",
    "test_dir = r'D:\\eight semester\\plant disease dataset\\computer vision\\test'"
   ]
  },
  {
   "cell_type": "code",
   "execution_count": 13,
   "id": "df46cdcb-9e04-4d8b-877a-285ba80994c0",
   "metadata": {},
   "outputs": [],
   "source": [
    "model = models.Sequential()\n",
    "model.add(layers.Conv2D(32, (3, 3), activation='relu',input_shape=(256, 256, 3)))\n",
    "model.add(layers.MaxPooling2D((2, 2)))\n",
    "model.add(layers.Conv2D(64, (3, 3), activation='relu'))\n",
    "model.add(layers.MaxPooling2D((2, 2)))\n",
    "model.add(layers.Conv2D(128, (3, 3), activation='relu'))\n",
    "model.add(layers.MaxPooling2D((2, 2)))\n",
    "model.add(layers.Conv2D(128, (3, 3), activation='relu'))\n",
    "model.add(layers.MaxPooling2D((2, 2)))\n",
    "model.add(layers.Flatten())\n",
    "model.add(layers.Dense(512, activation='relu'))\n",
    "model.add(layers.Dense(4,activation='softmax'))"
   ]
  },
  {
   "cell_type": "code",
   "execution_count": 14,
   "id": "637a321e-d117-4af5-87cd-c8b02571e042",
   "metadata": {
    "scrolled": true
   },
   "outputs": [
    {
     "name": "stdout",
     "output_type": "stream",
     "text": [
      "Model: \"sequential_1\"\n",
      "_________________________________________________________________\n",
      " Layer (type)                Output Shape              Param #   \n",
      "=================================================================\n",
      " conv2d_4 (Conv2D)           (None, 254, 254, 32)      896       \n",
      "                                                                 \n",
      " max_pooling2d_4 (MaxPooling  (None, 127, 127, 32)     0         \n",
      " 2D)                                                             \n",
      "                                                                 \n",
      " conv2d_5 (Conv2D)           (None, 125, 125, 64)      18496     \n",
      "                                                                 \n",
      " max_pooling2d_5 (MaxPooling  (None, 62, 62, 64)       0         \n",
      " 2D)                                                             \n",
      "                                                                 \n",
      " conv2d_6 (Conv2D)           (None, 60, 60, 128)       73856     \n",
      "                                                                 \n",
      " max_pooling2d_6 (MaxPooling  (None, 30, 30, 128)      0         \n",
      " 2D)                                                             \n",
      "                                                                 \n",
      " conv2d_7 (Conv2D)           (None, 28, 28, 128)       147584    \n",
      "                                                                 \n",
      " max_pooling2d_7 (MaxPooling  (None, 14, 14, 128)      0         \n",
      " 2D)                                                             \n",
      "                                                                 \n",
      " flatten_1 (Flatten)         (None, 25088)             0         \n",
      "                                                                 \n",
      " dense_2 (Dense)             (None, 512)               12845568  \n",
      "                                                                 \n",
      " dense_3 (Dense)             (None, 4)                 2052      \n",
      "                                                                 \n",
      "=================================================================\n",
      "Total params: 13,088,452\n",
      "Trainable params: 13,088,452\n",
      "Non-trainable params: 0\n",
      "_________________________________________________________________\n"
     ]
    }
   ],
   "source": [
    "model.summary()"
   ]
  },
  {
   "cell_type": "code",
   "execution_count": 15,
   "id": "7410b299-32c4-4691-91e9-658273d059b0",
   "metadata": {},
   "outputs": [],
   "source": [
    "model.compile(loss='categorical_crossentropy', optimizer=optimizers.RMSprop(lr=1e-4), metrics=['acc'])"
   ]
  },
  {
   "cell_type": "code",
   "execution_count": 16,
   "id": "fa0c6a76-7bc1-491f-985d-fd9ee4de1a47",
   "metadata": {},
   "outputs": [
    {
     "name": "stdout",
     "output_type": "stream",
     "text": [
      "Found 1600 images belonging to 4 classes.\n",
      "Found 252 images belonging to 4 classes.\n"
     ]
    }
   ],
   "source": [
    "train_datagen = ImageDataGenerator(rescale=1./255)\n",
    "test_datagen = ImageDataGenerator(rescale=1./255)\n",
    "train_generator = train_datagen.flow_from_directory(train_dir, target_size=(256, 256), batch_size=32,class_mode='categorical')\n",
    "validation_generator = test_datagen.flow_from_directory(validation_dir,target_size=(256, 256),batch_size=32,class_mode='categorical')"
   ]
  },
  {
   "cell_type": "code",
   "execution_count": 17,
   "id": "2f6c8a4e-4935-4af3-8f7f-73bfe65a750b",
   "metadata": {},
   "outputs": [],
   "source": [
    "EpochCheckpoint = ModelCheckpoint(checkpoints,\n",
    "                             monitor=\"val_loss\",\n",
    "                             save_best_only=True, \n",
    "                             verbose=1)\n",
    "callbacks = [EpochCheckpoint]"
   ]
  },
  {
   "cell_type": "code",
   "execution_count": null,
   "id": "9948fcda-c7b5-4f87-b1b1-f5dbcbe82cef",
   "metadata": {
    "scrolled": true
   },
   "outputs": [
    {
     "name": "stdout",
     "output_type": "stream",
     "text": [
      "Epoch 1/10\n",
      "50/50 [==============================] - ETA: 0s - loss: 0.8236 - acc: 0.6275\n",
      "Epoch 1: val_loss improved from inf to 0.42211, saving model to C:\\Users\\Hp\\Desktop\\ml labs\\E1-cp-0001-loss0.42.h5\n",
      "50/50 [==============================] - 256s 5s/step - loss: 0.8236 - acc: 0.6275 - val_loss: 0.4221 - val_acc: 0.8056\n",
      "Epoch 2/10\n",
      "50/50 [==============================] - ETA: 0s - loss: 0.4568 - acc: 0.7856\n",
      "Epoch 2: val_loss improved from 0.42211 to 0.38004, saving model to C:\\Users\\Hp\\Desktop\\ml labs\\E1-cp-0002-loss0.38.h5\n",
      "50/50 [==============================] - 259s 5s/step - loss: 0.4568 - acc: 0.7856 - val_loss: 0.3800 - val_acc: 0.8135\n",
      "Epoch 3/10\n",
      "50/50 [==============================] - ETA: 0s - loss: 0.3743 - acc: 0.8125\n",
      "Epoch 3: val_loss did not improve from 0.38004\n",
      "50/50 [==============================] - 256s 5s/step - loss: 0.3743 - acc: 0.8125 - val_loss: 0.3941 - val_acc: 0.8135\n",
      "Epoch 4/10\n",
      "50/50 [==============================] - ETA: 0s - loss: 0.3323 - acc: 0.8456\n",
      "Epoch 4: val_loss did not improve from 0.38004\n",
      "50/50 [==============================] - 257s 5s/step - loss: 0.3323 - acc: 0.8456 - val_loss: 0.4960 - val_acc: 0.7897\n",
      "Epoch 5/10\n",
      "50/50 [==============================] - ETA: 0s - loss: 0.2878 - acc: 0.8619\n",
      "Epoch 5: val_loss improved from 0.38004 to 0.30088, saving model to C:\\Users\\Hp\\Desktop\\ml labs\\E1-cp-0005-loss0.30.h5\n",
      "50/50 [==============================] - 261s 5s/step - loss: 0.2878 - acc: 0.8619 - val_loss: 0.3009 - val_acc: 0.8492\n",
      "Epoch 6/10\n",
      "19/50 [==========>...................] - ETA: 2:32 - loss: 0.2707 - acc: 0.8931"
     ]
    }
   ],
   "source": [
    "step_size_train = train_generator.n//train_generator.batch_size\n",
    "\n",
    "model_history = model.fit(train_generator,\n",
    "                    validation_data =validation_generator,\n",
    "                   steps_per_epoch=step_size_train,\n",
    "                   epochs=10,\n",
    "                    callbacks=callbacks)"
   ]
  },
  {
   "cell_type": "code",
   "execution_count": null,
   "id": "0713be23-bab6-4d1a-9fd3-11c74fc31474",
   "metadata": {
    "scrolled": true
   },
   "outputs": [],
   "source": [
    "model_history.history"
   ]
  },
  {
   "cell_type": "code",
   "execution_count": null,
   "id": "8927ffc9-7ac7-43d9-acff-cfd4f306195a",
   "metadata": {},
   "outputs": [],
   "source": [
    "acc = model_history.history['acc']\n",
    "val_acc = model_history.history['val_acc']\n",
    "loss = model_history.history['loss']\n",
    "val_loss = model_history.history['val_loss']\n",
    "epochs = range(1, len(acc) + 1)\n",
    "plt.plot(epochs, acc, 'bo', label='Training acc')\n",
    "plt.plot(epochs, val_acc, 'b', label='Validation acc')\n",
    "plt.title('Training and validation accuracy')\n",
    "plt.legend()\n",
    "plt.figure()\n",
    "plt.plot(epochs, loss, 'bo', label='Training loss')\n",
    "plt.plot(epochs, val_loss, 'b', label='Validation loss')\n",
    "plt.title('Training and validation loss')\n",
    "plt.legend()\n",
    "plt.show()\n",
    "plt.savefig(r'C:\\Users\\Administrator\\Downloads\\ML Lab\\Computer vision\\lab11\\model_Accuracy.png')"
   ]
  },
  {
   "cell_type": "code",
   "execution_count": 25,
   "id": "2e7a43e2-7cb2-4e09-88d2-48315eb20154",
   "metadata": {},
   "outputs": [],
   "source": [
    "model.save(r'C:\\Users\\Hp\\Desktop\\ml labs\\E1-cp-0012-loss0.21.h5')"
   ]
  },
  {
   "cell_type": "code",
   "execution_count": 26,
   "id": "a41be203-be21-46b7-a78e-fdab1d343a3e",
   "metadata": {},
   "outputs": [
    {
     "name": "stdout",
     "output_type": "stream",
     "text": [
      "Found 200 images belonging to 4 classes.\n"
     ]
    },
    {
     "ename": "InvalidArgumentError",
     "evalue": "Graph execution error:\n\nDetected at node 'sequential_1/flatten_1/Reshape' defined at (most recent call last):\n    File \"D:\\7th semester\\anaconda\\envs\\jawadhadi\\lib\\runpy.py\", line 193, in _run_module_as_main\n      \"__main__\", mod_spec)\n    File \"D:\\7th semester\\anaconda\\envs\\jawadhadi\\lib\\runpy.py\", line 85, in _run_code\n      exec(code, run_globals)\n    File \"D:\\7th semester\\anaconda\\envs\\jawadhadi\\lib\\site-packages\\ipykernel_launcher.py\", line 17, in <module>\n      app.launch_new_instance()\n    File \"D:\\7th semester\\anaconda\\envs\\jawadhadi\\lib\\site-packages\\traitlets\\config\\application.py\", line 992, in launch_instance\n      app.start()\n    File \"D:\\7th semester\\anaconda\\envs\\jawadhadi\\lib\\site-packages\\ipykernel\\kernelapp.py\", line 712, in start\n      self.io_loop.start()\n    File \"D:\\7th semester\\anaconda\\envs\\jawadhadi\\lib\\site-packages\\tornado\\platform\\asyncio.py\", line 215, in start\n      self.asyncio_loop.run_forever()\n    File \"D:\\7th semester\\anaconda\\envs\\jawadhadi\\lib\\asyncio\\base_events.py\", line 528, in run_forever\n      self._run_once()\n    File \"D:\\7th semester\\anaconda\\envs\\jawadhadi\\lib\\asyncio\\base_events.py\", line 1764, in _run_once\n      handle._run()\n    File \"D:\\7th semester\\anaconda\\envs\\jawadhadi\\lib\\asyncio\\events.py\", line 88, in _run\n      self._context.run(self._callback, *self._args)\n    File \"D:\\7th semester\\anaconda\\envs\\jawadhadi\\lib\\site-packages\\ipykernel\\kernelbase.py\", line 510, in dispatch_queue\n      await self.process_one()\n    File \"D:\\7th semester\\anaconda\\envs\\jawadhadi\\lib\\site-packages\\ipykernel\\kernelbase.py\", line 499, in process_one\n      await dispatch(*args)\n    File \"D:\\7th semester\\anaconda\\envs\\jawadhadi\\lib\\site-packages\\ipykernel\\kernelbase.py\", line 406, in dispatch_shell\n      await result\n    File \"D:\\7th semester\\anaconda\\envs\\jawadhadi\\lib\\site-packages\\ipykernel\\kernelbase.py\", line 730, in execute_request\n      reply_content = await reply_content\n    File \"D:\\7th semester\\anaconda\\envs\\jawadhadi\\lib\\site-packages\\ipykernel\\ipkernel.py\", line 390, in do_execute\n      res = shell.run_cell(code, store_history=store_history, silent=silent)\n    File \"D:\\7th semester\\anaconda\\envs\\jawadhadi\\lib\\site-packages\\ipykernel\\zmqshell.py\", line 528, in run_cell\n      return super().run_cell(*args, **kwargs)\n    File \"D:\\7th semester\\anaconda\\envs\\jawadhadi\\lib\\site-packages\\IPython\\core\\interactiveshell.py\", line 2915, in run_cell\n      raw_cell, store_history, silent, shell_futures)\n    File \"D:\\7th semester\\anaconda\\envs\\jawadhadi\\lib\\site-packages\\IPython\\core\\interactiveshell.py\", line 2960, in _run_cell\n      return runner(coro)\n    File \"D:\\7th semester\\anaconda\\envs\\jawadhadi\\lib\\site-packages\\IPython\\core\\async_helpers.py\", line 78, in _pseudo_sync_runner\n      coro.send(None)\n    File \"D:\\7th semester\\anaconda\\envs\\jawadhadi\\lib\\site-packages\\IPython\\core\\interactiveshell.py\", line 3186, in run_cell_async\n      interactivity=interactivity, compiler=compiler, result=result)\n    File \"D:\\7th semester\\anaconda\\envs\\jawadhadi\\lib\\site-packages\\IPython\\core\\interactiveshell.py\", line 3377, in run_ast_nodes\n      if (await self.run_code(code, result,  async_=asy)):\n    File \"D:\\7th semester\\anaconda\\envs\\jawadhadi\\lib\\site-packages\\IPython\\core\\interactiveshell.py\", line 3457, in run_code\n      exec(code_obj, self.user_global_ns, self.user_ns)\n    File \"C:\\Users\\Hp\\AppData\\Local\\Temp\\ipykernel_16164\\3147467433.py\", line 5, in <module>\n      preds=model.predict(test_generator)\n    File \"D:\\7th semester\\anaconda\\envs\\jawadhadi\\lib\\site-packages\\keras\\utils\\traceback_utils.py\", line 65, in error_handler\n      return fn(*args, **kwargs)\n    File \"D:\\7th semester\\anaconda\\envs\\jawadhadi\\lib\\site-packages\\keras\\engine\\training.py\", line 2253, in predict\n      tmp_batch_outputs = self.predict_function(iterator)\n    File \"D:\\7th semester\\anaconda\\envs\\jawadhadi\\lib\\site-packages\\keras\\engine\\training.py\", line 2041, in predict_function\n      return step_function(self, iterator)\n    File \"D:\\7th semester\\anaconda\\envs\\jawadhadi\\lib\\site-packages\\keras\\engine\\training.py\", line 2027, in step_function\n      outputs = model.distribute_strategy.run(run_step, args=(data,))\n    File \"D:\\7th semester\\anaconda\\envs\\jawadhadi\\lib\\site-packages\\keras\\engine\\training.py\", line 2015, in run_step\n      outputs = model.predict_step(data)\n    File \"D:\\7th semester\\anaconda\\envs\\jawadhadi\\lib\\site-packages\\keras\\engine\\training.py\", line 1983, in predict_step\n      return self(x, training=False)\n    File \"D:\\7th semester\\anaconda\\envs\\jawadhadi\\lib\\site-packages\\keras\\utils\\traceback_utils.py\", line 65, in error_handler\n      return fn(*args, **kwargs)\n    File \"D:\\7th semester\\anaconda\\envs\\jawadhadi\\lib\\site-packages\\keras\\engine\\training.py\", line 557, in __call__\n      return super().__call__(*args, **kwargs)\n    File \"D:\\7th semester\\anaconda\\envs\\jawadhadi\\lib\\site-packages\\keras\\utils\\traceback_utils.py\", line 65, in error_handler\n      return fn(*args, **kwargs)\n    File \"D:\\7th semester\\anaconda\\envs\\jawadhadi\\lib\\site-packages\\keras\\engine\\base_layer.py\", line 1097, in __call__\n      outputs = call_fn(inputs, *args, **kwargs)\n    File \"D:\\7th semester\\anaconda\\envs\\jawadhadi\\lib\\site-packages\\keras\\utils\\traceback_utils.py\", line 96, in error_handler\n      return fn(*args, **kwargs)\n    File \"D:\\7th semester\\anaconda\\envs\\jawadhadi\\lib\\site-packages\\keras\\engine\\sequential.py\", line 410, in call\n      return super().call(inputs, training=training, mask=mask)\n    File \"D:\\7th semester\\anaconda\\envs\\jawadhadi\\lib\\site-packages\\keras\\engine\\functional.py\", line 510, in call\n      return self._run_internal_graph(inputs, training=training, mask=mask)\n    File \"D:\\7th semester\\anaconda\\envs\\jawadhadi\\lib\\site-packages\\keras\\engine\\functional.py\", line 667, in _run_internal_graph\n      outputs = node.layer(*args, **kwargs)\n    File \"D:\\7th semester\\anaconda\\envs\\jawadhadi\\lib\\site-packages\\keras\\utils\\traceback_utils.py\", line 65, in error_handler\n      return fn(*args, **kwargs)\n    File \"D:\\7th semester\\anaconda\\envs\\jawadhadi\\lib\\site-packages\\keras\\engine\\base_layer.py\", line 1097, in __call__\n      outputs = call_fn(inputs, *args, **kwargs)\n    File \"D:\\7th semester\\anaconda\\envs\\jawadhadi\\lib\\site-packages\\keras\\utils\\traceback_utils.py\", line 96, in error_handler\n      return fn(*args, **kwargs)\n    File \"D:\\7th semester\\anaconda\\envs\\jawadhadi\\lib\\site-packages\\keras\\layers\\reshaping\\flatten.py\", line 104, in call\n      return tf.reshape(inputs, flattened_shape)\nNode: 'sequential_1/flatten_1/Reshape'\nInput to reshape is a tensor with 147456 values, but the requested shape requires a multiple of 25088\n\t [[{{node sequential_1/flatten_1/Reshape}}]] [Op:__inference_predict_function_3868]",
     "output_type": "error",
     "traceback": [
      "\u001b[1;31m---------------------------------------------------------------------------\u001b[0m",
      "\u001b[1;31mInvalidArgumentError\u001b[0m                      Traceback (most recent call last)",
      "\u001b[1;32m~\\AppData\\Local\\Temp\\ipykernel_16164\\3147467433.py\u001b[0m in \u001b[0;36m<module>\u001b[1;34m\u001b[0m\n\u001b[0;32m      3\u001b[0m \u001b[0mtest_generator\u001b[0m \u001b[1;33m=\u001b[0m \u001b[0mtest_datagen\u001b[0m\u001b[1;33m.\u001b[0m\u001b[0mflow_from_directory\u001b[0m\u001b[1;33m(\u001b[0m\u001b[0mtest_dir\u001b[0m\u001b[1;33m,\u001b[0m \u001b[0mtarget_size\u001b[0m\u001b[1;33m=\u001b[0m\u001b[1;33m(\u001b[0m\u001b[1;36m128\u001b[0m\u001b[1;33m,\u001b[0m \u001b[1;36m128\u001b[0m\u001b[1;33m)\u001b[0m\u001b[1;33m,\u001b[0m \u001b[0mbatch_size\u001b[0m\u001b[1;33m=\u001b[0m\u001b[1;36m32\u001b[0m\u001b[1;33m,\u001b[0m \u001b[0mshuffle\u001b[0m\u001b[1;33m=\u001b[0m\u001b[1;32mFalse\u001b[0m\u001b[1;33m,\u001b[0m \u001b[0mclass_mode\u001b[0m\u001b[1;33m=\u001b[0m\u001b[1;34m'categorical'\u001b[0m\u001b[1;33m)\u001b[0m\u001b[1;33m\u001b[0m\u001b[1;33m\u001b[0m\u001b[0m\n\u001b[0;32m      4\u001b[0m \u001b[0mlabel\u001b[0m\u001b[1;33m=\u001b[0m\u001b[0mtest_generator\u001b[0m\u001b[1;33m.\u001b[0m\u001b[0mlabels\u001b[0m\u001b[1;33m\u001b[0m\u001b[1;33m\u001b[0m\u001b[0m\n\u001b[1;32m----> 5\u001b[1;33m \u001b[0mpreds\u001b[0m\u001b[1;33m=\u001b[0m\u001b[0mmodel\u001b[0m\u001b[1;33m.\u001b[0m\u001b[0mpredict\u001b[0m\u001b[1;33m(\u001b[0m\u001b[0mtest_generator\u001b[0m\u001b[1;33m)\u001b[0m\u001b[1;33m\u001b[0m\u001b[1;33m\u001b[0m\u001b[0m\n\u001b[0m\u001b[0;32m      6\u001b[0m \u001b[0mpred\u001b[0m \u001b[1;33m=\u001b[0m \u001b[0mnp\u001b[0m\u001b[1;33m.\u001b[0m\u001b[0margmax\u001b[0m\u001b[1;33m(\u001b[0m\u001b[0mpreds\u001b[0m\u001b[1;33m,\u001b[0m \u001b[0maxis\u001b[0m \u001b[1;33m=\u001b[0m \u001b[1;36m1\u001b[0m\u001b[1;33m)\u001b[0m\u001b[1;33m\u001b[0m\u001b[1;33m\u001b[0m\u001b[0m\n\u001b[0;32m      7\u001b[0m \u001b[0mcm\u001b[0m \u001b[1;33m=\u001b[0m \u001b[0mconfusion_matrix\u001b[0m\u001b[1;33m(\u001b[0m\u001b[0mlabel\u001b[0m\u001b[1;33m,\u001b[0m \u001b[0mpred\u001b[0m\u001b[1;33m)\u001b[0m\u001b[1;33m\u001b[0m\u001b[1;33m\u001b[0m\u001b[0m\n",
      "\u001b[1;32mD:\\7th semester\\anaconda\\envs\\jawadhadi\\lib\\site-packages\\keras\\utils\\traceback_utils.py\u001b[0m in \u001b[0;36merror_handler\u001b[1;34m(*args, **kwargs)\u001b[0m\n\u001b[0;32m     68\u001b[0m             \u001b[1;31m# To get the full stack trace, call:\u001b[0m\u001b[1;33m\u001b[0m\u001b[1;33m\u001b[0m\u001b[1;33m\u001b[0m\u001b[0m\n\u001b[0;32m     69\u001b[0m             \u001b[1;31m# `tf.debugging.disable_traceback_filtering()`\u001b[0m\u001b[1;33m\u001b[0m\u001b[1;33m\u001b[0m\u001b[1;33m\u001b[0m\u001b[0m\n\u001b[1;32m---> 70\u001b[1;33m             \u001b[1;32mraise\u001b[0m \u001b[0me\u001b[0m\u001b[1;33m.\u001b[0m\u001b[0mwith_traceback\u001b[0m\u001b[1;33m(\u001b[0m\u001b[0mfiltered_tb\u001b[0m\u001b[1;33m)\u001b[0m \u001b[1;32mfrom\u001b[0m \u001b[1;32mNone\u001b[0m\u001b[1;33m\u001b[0m\u001b[1;33m\u001b[0m\u001b[0m\n\u001b[0m\u001b[0;32m     71\u001b[0m         \u001b[1;32mfinally\u001b[0m\u001b[1;33m:\u001b[0m\u001b[1;33m\u001b[0m\u001b[1;33m\u001b[0m\u001b[0m\n\u001b[0;32m     72\u001b[0m             \u001b[1;32mdel\u001b[0m \u001b[0mfiltered_tb\u001b[0m\u001b[1;33m\u001b[0m\u001b[1;33m\u001b[0m\u001b[0m\n",
      "\u001b[1;32mD:\\7th semester\\anaconda\\envs\\jawadhadi\\lib\\site-packages\\tensorflow\\python\\eager\\execute.py\u001b[0m in \u001b[0;36mquick_execute\u001b[1;34m(op_name, num_outputs, inputs, attrs, ctx, name)\u001b[0m\n\u001b[0;32m     53\u001b[0m     \u001b[0mctx\u001b[0m\u001b[1;33m.\u001b[0m\u001b[0mensure_initialized\u001b[0m\u001b[1;33m(\u001b[0m\u001b[1;33m)\u001b[0m\u001b[1;33m\u001b[0m\u001b[1;33m\u001b[0m\u001b[0m\n\u001b[0;32m     54\u001b[0m     tensors = pywrap_tfe.TFE_Py_Execute(ctx._handle, device_name, op_name,\n\u001b[1;32m---> 55\u001b[1;33m                                         inputs, attrs, num_outputs)\n\u001b[0m\u001b[0;32m     56\u001b[0m   \u001b[1;32mexcept\u001b[0m \u001b[0mcore\u001b[0m\u001b[1;33m.\u001b[0m\u001b[0m_NotOkStatusException\u001b[0m \u001b[1;32mas\u001b[0m \u001b[0me\u001b[0m\u001b[1;33m:\u001b[0m\u001b[1;33m\u001b[0m\u001b[1;33m\u001b[0m\u001b[0m\n\u001b[0;32m     57\u001b[0m     \u001b[1;32mif\u001b[0m \u001b[0mname\u001b[0m \u001b[1;32mis\u001b[0m \u001b[1;32mnot\u001b[0m \u001b[1;32mNone\u001b[0m\u001b[1;33m:\u001b[0m\u001b[1;33m\u001b[0m\u001b[1;33m\u001b[0m\u001b[0m\n",
      "\u001b[1;31mInvalidArgumentError\u001b[0m: Graph execution error:\n\nDetected at node 'sequential_1/flatten_1/Reshape' defined at (most recent call last):\n    File \"D:\\7th semester\\anaconda\\envs\\jawadhadi\\lib\\runpy.py\", line 193, in _run_module_as_main\n      \"__main__\", mod_spec)\n    File \"D:\\7th semester\\anaconda\\envs\\jawadhadi\\lib\\runpy.py\", line 85, in _run_code\n      exec(code, run_globals)\n    File \"D:\\7th semester\\anaconda\\envs\\jawadhadi\\lib\\site-packages\\ipykernel_launcher.py\", line 17, in <module>\n      app.launch_new_instance()\n    File \"D:\\7th semester\\anaconda\\envs\\jawadhadi\\lib\\site-packages\\traitlets\\config\\application.py\", line 992, in launch_instance\n      app.start()\n    File \"D:\\7th semester\\anaconda\\envs\\jawadhadi\\lib\\site-packages\\ipykernel\\kernelapp.py\", line 712, in start\n      self.io_loop.start()\n    File \"D:\\7th semester\\anaconda\\envs\\jawadhadi\\lib\\site-packages\\tornado\\platform\\asyncio.py\", line 215, in start\n      self.asyncio_loop.run_forever()\n    File \"D:\\7th semester\\anaconda\\envs\\jawadhadi\\lib\\asyncio\\base_events.py\", line 528, in run_forever\n      self._run_once()\n    File \"D:\\7th semester\\anaconda\\envs\\jawadhadi\\lib\\asyncio\\base_events.py\", line 1764, in _run_once\n      handle._run()\n    File \"D:\\7th semester\\anaconda\\envs\\jawadhadi\\lib\\asyncio\\events.py\", line 88, in _run\n      self._context.run(self._callback, *self._args)\n    File \"D:\\7th semester\\anaconda\\envs\\jawadhadi\\lib\\site-packages\\ipykernel\\kernelbase.py\", line 510, in dispatch_queue\n      await self.process_one()\n    File \"D:\\7th semester\\anaconda\\envs\\jawadhadi\\lib\\site-packages\\ipykernel\\kernelbase.py\", line 499, in process_one\n      await dispatch(*args)\n    File \"D:\\7th semester\\anaconda\\envs\\jawadhadi\\lib\\site-packages\\ipykernel\\kernelbase.py\", line 406, in dispatch_shell\n      await result\n    File \"D:\\7th semester\\anaconda\\envs\\jawadhadi\\lib\\site-packages\\ipykernel\\kernelbase.py\", line 730, in execute_request\n      reply_content = await reply_content\n    File \"D:\\7th semester\\anaconda\\envs\\jawadhadi\\lib\\site-packages\\ipykernel\\ipkernel.py\", line 390, in do_execute\n      res = shell.run_cell(code, store_history=store_history, silent=silent)\n    File \"D:\\7th semester\\anaconda\\envs\\jawadhadi\\lib\\site-packages\\ipykernel\\zmqshell.py\", line 528, in run_cell\n      return super().run_cell(*args, **kwargs)\n    File \"D:\\7th semester\\anaconda\\envs\\jawadhadi\\lib\\site-packages\\IPython\\core\\interactiveshell.py\", line 2915, in run_cell\n      raw_cell, store_history, silent, shell_futures)\n    File \"D:\\7th semester\\anaconda\\envs\\jawadhadi\\lib\\site-packages\\IPython\\core\\interactiveshell.py\", line 2960, in _run_cell\n      return runner(coro)\n    File \"D:\\7th semester\\anaconda\\envs\\jawadhadi\\lib\\site-packages\\IPython\\core\\async_helpers.py\", line 78, in _pseudo_sync_runner\n      coro.send(None)\n    File \"D:\\7th semester\\anaconda\\envs\\jawadhadi\\lib\\site-packages\\IPython\\core\\interactiveshell.py\", line 3186, in run_cell_async\n      interactivity=interactivity, compiler=compiler, result=result)\n    File \"D:\\7th semester\\anaconda\\envs\\jawadhadi\\lib\\site-packages\\IPython\\core\\interactiveshell.py\", line 3377, in run_ast_nodes\n      if (await self.run_code(code, result,  async_=asy)):\n    File \"D:\\7th semester\\anaconda\\envs\\jawadhadi\\lib\\site-packages\\IPython\\core\\interactiveshell.py\", line 3457, in run_code\n      exec(code_obj, self.user_global_ns, self.user_ns)\n    File \"C:\\Users\\Hp\\AppData\\Local\\Temp\\ipykernel_16164\\3147467433.py\", line 5, in <module>\n      preds=model.predict(test_generator)\n    File \"D:\\7th semester\\anaconda\\envs\\jawadhadi\\lib\\site-packages\\keras\\utils\\traceback_utils.py\", line 65, in error_handler\n      return fn(*args, **kwargs)\n    File \"D:\\7th semester\\anaconda\\envs\\jawadhadi\\lib\\site-packages\\keras\\engine\\training.py\", line 2253, in predict\n      tmp_batch_outputs = self.predict_function(iterator)\n    File \"D:\\7th semester\\anaconda\\envs\\jawadhadi\\lib\\site-packages\\keras\\engine\\training.py\", line 2041, in predict_function\n      return step_function(self, iterator)\n    File \"D:\\7th semester\\anaconda\\envs\\jawadhadi\\lib\\site-packages\\keras\\engine\\training.py\", line 2027, in step_function\n      outputs = model.distribute_strategy.run(run_step, args=(data,))\n    File \"D:\\7th semester\\anaconda\\envs\\jawadhadi\\lib\\site-packages\\keras\\engine\\training.py\", line 2015, in run_step\n      outputs = model.predict_step(data)\n    File \"D:\\7th semester\\anaconda\\envs\\jawadhadi\\lib\\site-packages\\keras\\engine\\training.py\", line 1983, in predict_step\n      return self(x, training=False)\n    File \"D:\\7th semester\\anaconda\\envs\\jawadhadi\\lib\\site-packages\\keras\\utils\\traceback_utils.py\", line 65, in error_handler\n      return fn(*args, **kwargs)\n    File \"D:\\7th semester\\anaconda\\envs\\jawadhadi\\lib\\site-packages\\keras\\engine\\training.py\", line 557, in __call__\n      return super().__call__(*args, **kwargs)\n    File \"D:\\7th semester\\anaconda\\envs\\jawadhadi\\lib\\site-packages\\keras\\utils\\traceback_utils.py\", line 65, in error_handler\n      return fn(*args, **kwargs)\n    File \"D:\\7th semester\\anaconda\\envs\\jawadhadi\\lib\\site-packages\\keras\\engine\\base_layer.py\", line 1097, in __call__\n      outputs = call_fn(inputs, *args, **kwargs)\n    File \"D:\\7th semester\\anaconda\\envs\\jawadhadi\\lib\\site-packages\\keras\\utils\\traceback_utils.py\", line 96, in error_handler\n      return fn(*args, **kwargs)\n    File \"D:\\7th semester\\anaconda\\envs\\jawadhadi\\lib\\site-packages\\keras\\engine\\sequential.py\", line 410, in call\n      return super().call(inputs, training=training, mask=mask)\n    File \"D:\\7th semester\\anaconda\\envs\\jawadhadi\\lib\\site-packages\\keras\\engine\\functional.py\", line 510, in call\n      return self._run_internal_graph(inputs, training=training, mask=mask)\n    File \"D:\\7th semester\\anaconda\\envs\\jawadhadi\\lib\\site-packages\\keras\\engine\\functional.py\", line 667, in _run_internal_graph\n      outputs = node.layer(*args, **kwargs)\n    File \"D:\\7th semester\\anaconda\\envs\\jawadhadi\\lib\\site-packages\\keras\\utils\\traceback_utils.py\", line 65, in error_handler\n      return fn(*args, **kwargs)\n    File \"D:\\7th semester\\anaconda\\envs\\jawadhadi\\lib\\site-packages\\keras\\engine\\base_layer.py\", line 1097, in __call__\n      outputs = call_fn(inputs, *args, **kwargs)\n    File \"D:\\7th semester\\anaconda\\envs\\jawadhadi\\lib\\site-packages\\keras\\utils\\traceback_utils.py\", line 96, in error_handler\n      return fn(*args, **kwargs)\n    File \"D:\\7th semester\\anaconda\\envs\\jawadhadi\\lib\\site-packages\\keras\\layers\\reshaping\\flatten.py\", line 104, in call\n      return tf.reshape(inputs, flattened_shape)\nNode: 'sequential_1/flatten_1/Reshape'\nInput to reshape is a tensor with 147456 values, but the requested shape requires a multiple of 25088\n\t [[{{node sequential_1/flatten_1/Reshape}}]] [Op:__inference_predict_function_3868]"
     ]
    }
   ],
   "source": [
    "#model = load_model(r'C:\\Users\\Administrator\\Downloads\\ML Lab\\Computer vision\\lab11\\model_lab11.h5')\n",
    "test_datagen = ImageDataGenerator(rescale=1./255)\n",
    "test_generator = test_datagen.flow_from_directory(test_dir, target_size=(256, 256), batch_size=32, shuffle=False, class_mode='categorical')\n",
    "label=test_generator.labels\n",
    "preds=model.predict(test_generator)\n",
    "pred = np.argmax(preds, axis = 1)\n",
    "cm = confusion_matrix(label, pred)\n",
    "disp = ConfusionMatrixDisplay(confusion_matrix=cm,  display_labels=['Cercospora', 'common_rust','healthy', 'leaf_blight'])\n",
    "disp.plot()\n",
    "plt.show()\n",
    "#plt.savefig(r'C:\\Users\\Administrator\\Downloads\\ML Lab\\Computer vision\\lab11\\confusion_matrics.jpg')"
   ]
  },
  {
   "cell_type": "code",
   "execution_count": 27,
   "id": "97a5a818-29ad-41e7-9ced-34ea44990aae",
   "metadata": {},
   "outputs": [
    {
     "name": "stdout",
     "output_type": "stream",
     "text": [
      "              precision    recall  f1-score   support\n",
      "\n",
      "  Cercospora       0.82      0.74      0.78        50\n",
      " common_rust       1.00      1.00      1.00        50\n",
      "     healthy       0.96      0.98      0.97        50\n",
      " leaf_blight       0.76      0.82      0.79        50\n",
      "\n",
      "    accuracy                           0.89       200\n",
      "   macro avg       0.89      0.88      0.88       200\n",
      "weighted avg       0.89      0.89      0.88       200\n",
      "\n"
     ]
    }
   ],
   "source": [
    "print(classification_report(label, pred, target_names=['Cercospora', 'common_rust','healthy', 'leaf_blight']))"
   ]
  },
  {
   "cell_type": "code",
   "execution_count": null,
   "id": "f0203c59-720e-44de-acb8-7268016490df",
   "metadata": {},
   "outputs": [],
   "source": []
  },
  {
   "cell_type": "code",
   "execution_count": null,
   "id": "2692a333-666e-4c04-bbcd-24f84f922080",
   "metadata": {},
   "outputs": [],
   "source": []
  },
  {
   "cell_type": "code",
   "execution_count": null,
   "id": "26131bfd-1d60-4844-b99d-1b2bd0fd18ff",
   "metadata": {},
   "outputs": [],
   "source": []
  },
  {
   "cell_type": "code",
   "execution_count": null,
   "id": "6abe42c1",
   "metadata": {},
   "outputs": [],
   "source": []
  }
 ],
 "metadata": {
  "kernelspec": {
   "display_name": "Python 3 (ipykernel)",
   "language": "python",
   "name": "python3"
  },
  "language_info": {
   "codemirror_mode": {
    "name": "ipython",
    "version": 3
   },
   "file_extension": ".py",
   "mimetype": "text/x-python",
   "name": "python",
   "nbconvert_exporter": "python",
   "pygments_lexer": "ipython3",
   "version": "3.7.16"
  }
 },
 "nbformat": 4,
 "nbformat_minor": 5
}
