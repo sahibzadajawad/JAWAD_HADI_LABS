{
 "cells": [
  {
   "cell_type": "code",
   "execution_count": 2,
   "metadata": {},
   "outputs": [],
   "source": [
    "import os\n",
    "os.chdir(r'C:\\Users\\Hp\\Desktop\\ml labs')"
   ]
  },
  {
   "cell_type": "code",
   "execution_count": 3,
   "metadata": {},
   "outputs": [],
   "source": [
    "from sklearn.metrics import mean_squared_error, mean_absolute_error, explained_variance_score, r2_score\n",
    "from timeseires.utils.to_split import to_split\n",
    "from timeseires.utils.multivariate_multi_step import multivariate_multi_step\n",
    "from timeseires.utils.multivariate_single_step import multivariate_single_step\n",
    "from timeseires.utils.univariate_multi_step import univariate_multi_step\n",
    "from timeseires.utils.univariate_single_step import univariate_single_step\n",
    "from timeseires.utils.CosineAnnealingLRS import CosineAnnealingLRS\n",
    "from timeseires.callbacks.EpochCheckpoint import EpochCheckpoint\n",
    "from tensorflow.keras.callbacks import ModelCheckpoint\n",
    "from timeseires.callbacks.TrainingMonitor import TrainingMonitor\n",
    "from tensorflow.keras.optimizers import Adam\n",
    "from tensorflow.keras.optimizers import SGD\n",
    "from tensorflow.keras.models import load_model\n",
    "from tensorflow.keras.layers import LSTM, Bidirectional, Add\n",
    "from tensorflow.keras.layers import BatchNormalization\n",
    "from tensorflow.keras.layers import Conv1D,TimeDistributed\n",
    "from tensorflow.keras.layers import Dense, Dropout, Activation, Flatten,MaxPooling1D,Concatenate,AveragePooling1D, GlobalMaxPooling1D, Input\n",
    "from tensorflow.keras.models import Sequential,Model\n",
    "import pandas as pd\n",
    "import time, pickle\n",
    "import numpy as np\n",
    "import tensorflow.keras.backend as K\n",
    "import tensorflow\n",
    "from tensorflow.keras.layers import Input, Reshape, Lambda\n",
    "from tensorflow.keras.layers import Layer, Flatten, LeakyReLU, concatenate, Dense\n",
    "from tensorflow.keras.regularizers import l2\n",
    "import glob\n",
    "import h5py\n",
    "import matplotlib.pyplot as plt\n",
    "from keras.callbacks import Callback"
   ]
  },
  {
   "cell_type": "code",
   "execution_count": 4,
   "metadata": {},
   "outputs": [],
   "source": [
    "#lookback = 24\n",
    "model = None\n",
    "start_epoch = 0\n",
    "time_steps=24\n",
    "num_features=21"
   ]
  },
  {
   "cell_type": "code",
   "execution_count": 5,
   "metadata": {},
   "outputs": [],
   "source": [
    "def CNN():\n",
    "    input_data = Input(shape=(time_steps, num_features))\n",
    "    x1 = Conv1D(16, 2, activation=\"relu\")(input_data)\n",
    "    x2 = Conv1D(16, 2, activation=\"relu\")(x1)\n",
    "    flatten = Flatten()(x2)\n",
    "    output_data = Dense(1)(flatten)\n",
    "    model = Model(input_data, output_data)\n",
    "    return model"
   ]
  },
  {
   "cell_type": "code",
   "execution_count": 6,
   "metadata": {},
   "outputs": [
    {
     "name": "stdout",
     "output_type": "stream",
     "text": [
      "Model: \"model\"\n",
      "_________________________________________________________________\n",
      " Layer (type)                Output Shape              Param #   \n",
      "=================================================================\n",
      " input_1 (InputLayer)        [(None, 24, 21)]          0         \n",
      "                                                                 \n",
      " conv1d (Conv1D)             (None, 23, 16)            688       \n",
      "                                                                 \n",
      " conv1d_1 (Conv1D)           (None, 22, 16)            528       \n",
      "                                                                 \n",
      " flatten (Flatten)           (None, 352)               0         \n",
      "                                                                 \n",
      " dense (Dense)               (None, 1)                 353       \n",
      "                                                                 \n",
      "=================================================================\n",
      "Total params: 1,569\n",
      "Trainable params: 1,569\n",
      "Non-trainable params: 0\n",
      "_________________________________________________________________\n"
     ]
    }
   ],
   "source": [
    "model1 = CNN()\n",
    "model1.summary()"
   ]
  },
  {
   "cell_type": "code",
   "execution_count": 7,
   "metadata": {},
   "outputs": [
    {
     "name": "stdout",
     "output_type": "stream",
     "text": [
      "Requirement already satisfied: pydot in d:\\7th semester\\anaconda\\envs\\jawadhadi\\lib\\site-packages (1.4.2)\n",
      "Requirement already satisfied: pyparsing>=2.1.4 in d:\\7th semester\\anaconda\\envs\\jawadhadi\\lib\\site-packages (from pydot) (2.4.7)\n",
      "Note: you may need to restart the kernel to use updated packages.\n"
     ]
    }
   ],
   "source": [
    "pip install pydot"
   ]
  },
  {
   "cell_type": "code",
   "execution_count": 8,
   "metadata": {},
   "outputs": [
    {
     "data": {
      "image/png": "[encoded data removed]",
      "text/plain": [
       "<IPython.core.display.Image object>"
      ]
     },
     "execution_count": 8,
     "metadata": {},
     "output_type": "execute_result"
    }
   ],
   "source": [
    "tensorflow.keras.utils.plot_model(model1 )"
   ]
  },
  {
   "cell_type": "code",
   "execution_count": 9,
   "metadata": {},
   "outputs": [],
   "source": [
    "checkpoints = r'C:\\Users\\Hp\\Desktop\\ml labs\\last labs\\lab 8 checkpoints\\\\E1-cp-{epoch:04d}-loss{val_loss:.2f}.h5'\n",
    "OUTPUT_PATH = r'C:\\Users\\Hp\\Desktop\\ml labs'\n",
    "FIG_PATH = os.path.sep.join([OUTPUT_PATH,\"\\history.png\"])\n",
    "JSON_PATH = os.path.sep.join([OUTPUT_PATH,\"\\history.json\"])"
   ]
  },
  {
   "cell_type": "code",
   "execution_count": 10,
   "metadata": {},
   "outputs": [],
   "source": [
    "# construct the callback to save only the *best* model to disk\n",
    "# based on the validation loss\n",
    "EpochCheckpoint1 = ModelCheckpoint(checkpoints,\n",
    "                             monitor=\"val_loss\",\n",
    "                             save_best_only=True, \n",
    "                             verbose=1)\n",
    "TrainingMonitor1=TrainingMonitor(FIG_PATH, jsonPath=JSON_PATH, startAt=start_epoch)\n",
    "\n",
    "# construct the set of callbacks\n",
    "callbacks = [EpochCheckpoint1,TrainingMonitor1]"
   ]
  },
  {
   "cell_type": "code",
   "execution_count": 11,
   "metadata": {},
   "outputs": [
    {
     "name": "stdout",
     "output_type": "stream",
     "text": [
      "[INFO] compiling model...\n"
     ]
    }
   ],
   "source": [
    "# if there is no specific model checkpoint supplied, then initialize\n",
    "# the network and compile the model\n",
    "if model is None:\n",
    "    print(\"[INFO] compiling model...\")\n",
    "    model =CNN()\n",
    "    opt = Adam(1e-3)\n",
    "    model.compile(loss= 'mae', optimizer=opt, metrics=[\"mae\", \"mape\"])\n",
    "# otherwise, load the checkpoint from disk\n",
    "else:\n",
    "    print(\"[INFO] loading {}...\".format(model))\n",
    "    model = load_model(model)\n",
    "\n",
    "    # update the learning rate\n",
    "    print(\"[INFO] old learning rate: {}\".format(K.get_value(model.optimizer.lr)))\n",
    "    K.set_value(model.optimizer.lr, 1e-4)\n",
    "    print(\"[INFO] new learning rate: {}\".format(K.get_value(model.optimizer.lr)))"
   ]
  },
  {
   "cell_type": "code",
   "execution_count": 12,
   "metadata": {},
   "outputs": [
    {
     "data": {
      "text/plain": [
       "((84907, 21), (24259, 21), (12130, 21))"
      ]
     },
     "execution_count": 12,
     "metadata": {},
     "output_type": "execute_result"
    }
   ],
   "source": [
    "import os\n",
    "path_dataset =r'C:\\Users\\Hp\\Desktop\\ml labs\\AEP hourly'\n",
    "path_tr = os.path.join(path_dataset, 'AEP_train.csv')\n",
    "df_tr = pd.read_csv(path_tr)\n",
    "train_set = df_tr.iloc[:].values\n",
    "path_v = os.path.join(path_dataset, 'AEP_validation.csv')\n",
    "df_v = pd.read_csv(path_v)\n",
    "validation_set = df_v.iloc[:].values \n",
    "path_te = os.path.join(path_dataset, 'AEP_test.csv')\n",
    "df_te = pd.read_csv(path_te)\n",
    "test_set = df_te.iloc[:].values \n",
    "\n",
    "path_scaler = os.path.join(path_dataset, 'AEP_Scaler.pkl')\n",
    "scaler         = pickle.load(open(path_scaler, 'rb'))\n",
    "\n",
    "train_set.shape, validation_set.shape, test_set.shape"
   ]
  },
  {
   "cell_type": "code",
   "execution_count": 13,
   "metadata": {},
   "outputs": [],
   "source": [
    "time_steps=24\n",
    "num_features=21"
   ]
  },
  {
   "cell_type": "code",
   "execution_count": 14,
   "metadata": {},
   "outputs": [
    {
     "name": "stdout",
     "output_type": "stream",
     "text": [
      "Time Consumed 0.9434225559234619 sec\n"
     ]
    }
   ],
   "source": [
    "start = time.time()\n",
    "train_X , train_y = univariate_multi_step(train_set, time_steps, target_col=0,target_len=1)\n",
    "validation_X, validation_y = univariate_multi_step(validation_set, time_steps, target_col=0,target_len=1)\n",
    "test_X, test_y = univariate_multi_step(test_set, time_steps, target_col=0,target_len=1)\n",
    "print('Time Consumed', time.time()-start, \"sec\")"
   ]
  },
  {
   "cell_type": "code",
   "execution_count": 15,
   "metadata": {},
   "outputs": [
    {
     "name": "stdout",
     "output_type": "stream",
     "text": [
      "Epoch 1/60\n",
      "2653/2653 [==============================] - ETA: 0s - loss: 0.0526 - mae: 0.0526 - mape: 2150.8345\n",
      "Epoch 1: val_loss improved from inf to 0.02791, saving model to C:\\Users\\Hp\\Desktop\\ml labs\\last labs\\lab 8 checkpoints\\E1-cp-0001-loss0.03.h5\n",
      "2653/2653 [==============================] - 12s 4ms/step - loss: 0.0526 - mae: 0.0526 - mape: 2150.8345 - val_loss: 0.0279 - val_mae: 0.0279 - val_mape: 10.6436\n",
      "Epoch 2/60\n",
      "2639/2653 [============================>.] - ETA: 0s - loss: 0.0245 - mae: 0.0245 - mape: 593.9954\n",
      "Epoch 2: val_loss improved from 0.02791 to 0.01996, saving model to C:\\Users\\Hp\\Desktop\\ml labs\\last labs\\lab 8 checkpoints\\E1-cp-0002-loss0.02.h5\n",
      "2653/2653 [==============================] - 11s 4ms/step - loss: 0.0245 - mae: 0.0245 - mape: 590.9836 - val_loss: 0.0200 - val_mae: 0.0200 - val_mape: 7.4854\n",
      "Epoch 3/60\n",
      "2639/2653 [============================>.] - ETA: 0s - loss: 0.0193 - mae: 0.0193 - mape: 691.6072\n",
      "Epoch 3: val_loss improved from 0.01996 to 0.01745, saving model to C:\\Users\\Hp\\Desktop\\ml labs\\last labs\\lab 8 checkpoints\\E1-cp-0003-loss0.02.h5\n",
      "2653/2653 [==============================] - 11s 4ms/step - loss: 0.0193 - mae: 0.0193 - mape: 688.0950 - val_loss: 0.0174 - val_mae: 0.0174 - val_mape: 6.5860\n",
      "Epoch 4/60\n",
      "2647/2653 [============================>.] - ETA: 0s - loss: 0.0163 - mae: 0.0163 - mape: 373.5798\n",
      "Epoch 4: val_loss improved from 0.01745 to 0.01402, saving model to C:\\Users\\Hp\\Desktop\\ml labs\\last labs\\lab 8 checkpoints\\E1-cp-0004-loss0.01.h5\n",
      "2653/2653 [==============================] - 11s 4ms/step - loss: 0.0163 - mae: 0.0163 - mape: 372.8038 - val_loss: 0.0140 - val_mae: 0.0140 - val_mape: 6.6307\n",
      "Epoch 5/60\n",
      "2643/2653 [============================>.] - ETA: 0s - loss: 0.0143 - mae: 0.0143 - mape: 648.1887\n",
      "Epoch 5: val_loss improved from 0.01402 to 0.01308, saving model to C:\\Users\\Hp\\Desktop\\ml labs\\last labs\\lab 8 checkpoints\\E1-cp-0005-loss0.01.h5\n",
      "2653/2653 [==============================] - 11s 4ms/step - loss: 0.0142 - mae: 0.0142 - mape: 645.8637 - val_loss: 0.0131 - val_mae: 0.0131 - val_mape: 5.5357\n",
      "Epoch 6/60\n",
      "2651/2653 [============================>.] - ETA: 0s - loss: 0.0134 - mae: 0.0134 - mape: 951.7910\n",
      "Epoch 6: val_loss did not improve from 0.01308\n",
      "2653/2653 [==============================] - 11s 4ms/step - loss: 0.0134 - mae: 0.0134 - mape: 951.2326 - val_loss: 0.0133 - val_mae: 0.0133 - val_mape: 6.2926\n",
      "Epoch 7/60\n",
      "2648/2653 [============================>.] - ETA: 0s - loss: 0.0127 - mae: 0.0127 - mape: 872.0466\n",
      "Epoch 7: val_loss improved from 0.01308 to 0.01214, saving model to C:\\Users\\Hp\\Desktop\\ml labs\\last labs\\lab 8 checkpoints\\E1-cp-0007-loss0.01.h5\n",
      "2653/2653 [==============================] - 11s 4ms/step - loss: 0.0127 - mae: 0.0127 - mape: 870.5509 - val_loss: 0.0121 - val_mae: 0.0121 - val_mape: 6.7651\n",
      "Epoch 8/60\n",
      "2644/2653 [============================>.] - ETA: 0s - loss: 0.0122 - mae: 0.0122 - mape: 835.1500\n",
      "Epoch 8: val_loss did not improve from 0.01214\n",
      "2653/2653 [==============================] - 11s 4ms/step - loss: 0.0122 - mae: 0.0122 - mape: 832.4689 - val_loss: 0.0145 - val_mae: 0.0145 - val_mape: 6.9671\n",
      "Epoch 9/60\n",
      "2650/2653 [============================>.] - ETA: 0s - loss: 0.0119 - mae: 0.0119 - mape: 827.3479\n",
      "Epoch 9: val_loss did not improve from 0.01214\n",
      "2653/2653 [==============================] - 11s 4ms/step - loss: 0.0119 - mae: 0.0119 - mape: 826.5509 - val_loss: 0.0129 - val_mae: 0.0129 - val_mape: 6.8861\n",
      "Epoch 10/60\n",
      "2652/2653 [============================>.] - ETA: 0s - loss: 0.0114 - mae: 0.0114 - mape: 1083.5253\n",
      "Epoch 10: val_loss improved from 0.01214 to 0.01008, saving model to C:\\Users\\Hp\\Desktop\\ml labs\\last labs\\lab 8 checkpoints\\E1-cp-0010-loss0.01.h5\n",
      "2653/2653 [==============================] - 11s 4ms/step - loss: 0.0114 - mae: 0.0114 - mape: 1083.2960 - val_loss: 0.0101 - val_mae: 0.0101 - val_mape: 5.4906\n",
      "Epoch 11/60\n",
      "2639/2653 [============================>.] - ETA: 0s - loss: 0.0114 - mae: 0.0114 - mape: 979.1588\n",
      "Epoch 11: val_loss did not improve from 0.01008\n",
      "2653/2653 [==============================] - 12s 4ms/step - loss: 0.0114 - mae: 0.0114 - mape: 974.1669 - val_loss: 0.0106 - val_mae: 0.0106 - val_mape: 5.7501\n",
      "Epoch 12/60\n",
      "2644/2653 [============================>.] - ETA: 0s - loss: 0.0112 - mae: 0.0112 - mape: 997.3571 \n",
      "Epoch 12: val_loss did not improve from 0.01008\n",
      "2653/2653 [==============================] - 12s 4ms/step - loss: 0.0112 - mae: 0.0112 - mape: 994.1465 - val_loss: 0.0115 - val_mae: 0.0115 - val_mape: 5.7352\n",
      "Epoch 13/60\n",
      "2644/2653 [============================>.] - ETA: 0s - loss: 0.0112 - mae: 0.0112 - mape: 898.6107\n",
      "Epoch 13: val_loss did not improve from 0.01008\n",
      "2653/2653 [==============================] - 15s 6ms/step - loss: 0.0112 - mae: 0.0112 - mape: 895.7199 - val_loss: 0.0108 - val_mae: 0.0108 - val_mape: 6.1534\n",
      "Epoch 14/60\n",
      "2639/2653 [============================>.] - ETA: 0s - loss: 0.0111 - mae: 0.0111 - mape: 947.2455\n",
      "Epoch 14: val_loss improved from 0.01008 to 0.00957, saving model to C:\\Users\\Hp\\Desktop\\ml labs\\last labs\\lab 8 checkpoints\\E1-cp-0014-loss0.01.h5\n",
      "2653/2653 [==============================] - 12s 4ms/step - loss: 0.0111 - mae: 0.0111 - mape: 942.4167 - val_loss: 0.0096 - val_mae: 0.0096 - val_mape: 5.0522\n",
      "Epoch 15/60\n",
      "2647/2653 [============================>.] - ETA: 0s - loss: 0.0109 - mae: 0.0109 - mape: 938.6612\n",
      "Epoch 15: val_loss did not improve from 0.00957\n",
      "2653/2653 [==============================] - 14s 5ms/step - loss: 0.0109 - mae: 0.0109 - mape: 936.6985 - val_loss: 0.0124 - val_mae: 0.0124 - val_mape: 6.1201\n",
      "Epoch 16/60\n",
      "2653/2653 [==============================] - ETA: 0s - loss: 0.0109 - mae: 0.0109 - mape: 1036.7622\n",
      "Epoch 16: val_loss did not improve from 0.00957\n",
      "2653/2653 [==============================] - 11s 4ms/step - loss: 0.0109 - mae: 0.0109 - mape: 1036.7622 - val_loss: 0.0109 - val_mae: 0.0109 - val_mape: 5.4973\n",
      "Epoch 17/60\n",
      "2641/2653 [============================>.] - ETA: 0s - loss: 0.0107 - mae: 0.0107 - mape: 1036.4821\n",
      "Epoch 17: val_loss improved from 0.00957 to 0.00945, saving model to C:\\Users\\Hp\\Desktop\\ml labs\\last labs\\lab 8 checkpoints\\E1-cp-0017-loss0.01.h5\n",
      "2653/2653 [==============================] - 10s 4ms/step - loss: 0.0107 - mae: 0.0107 - mape: 1031.9752 - val_loss: 0.0094 - val_mae: 0.0094 - val_mape: 4.8326\n",
      "Epoch 18/60\n",
      "2647/2653 [============================>.] - ETA: 0s - loss: 0.0107 - mae: 0.0107 - mape: 943.5903\n",
      "Epoch 18: val_loss did not improve from 0.00945\n",
      "2653/2653 [==============================] - 11s 4ms/step - loss: 0.0107 - mae: 0.0107 - mape: 941.6176 - val_loss: 0.0099 - val_mae: 0.0099 - val_mape: 5.5915\n",
      "Epoch 19/60\n",
      "2651/2653 [============================>.] - ETA: 0s - loss: 0.0106 - mae: 0.0106 - mape: 1075.5892\n",
      "Epoch 19: val_loss did not improve from 0.00945\n",
      "2653/2653 [==============================] - 10s 4ms/step - loss: 0.0106 - mae: 0.0106 - mape: 1074.9572 - val_loss: 0.0126 - val_mae: 0.0126 - val_mape: 6.5031\n",
      "Epoch 20/60\n",
      "2637/2653 [============================>.] - ETA: 0s - loss: 0.0105 - mae: 0.0105 - mape: 949.4678\n",
      "Epoch 20: val_loss improved from 0.00945 to 0.00940, saving model to C:\\Users\\Hp\\Desktop\\ml labs\\last labs\\lab 8 checkpoints\\E1-cp-0020-loss0.01.h5\n",
      "2653/2653 [==============================] - 10s 4ms/step - loss: 0.0105 - mae: 0.0105 - mape: 943.9122 - val_loss: 0.0094 - val_mae: 0.0094 - val_mape: 5.0437\n",
      "Epoch 21/60\n",
      "2645/2653 [============================>.] - ETA: 0s - loss: 0.0104 - mae: 0.0104 - mape: 947.9793\n",
      "Epoch 21: val_loss did not improve from 0.00940\n",
      "2653/2653 [==============================] - 10s 4ms/step - loss: 0.0104 - mae: 0.0104 - mape: 945.2834 - val_loss: 0.0099 - val_mae: 0.0099 - val_mape: 5.5924\n",
      "Epoch 22/60\n",
      "2650/2653 [============================>.] - ETA: 0s - loss: 0.0104 - mae: 0.0104 - mape: 870.2925\n",
      "Epoch 22: val_loss did not improve from 0.00940\n",
      "2653/2653 [==============================] - 11s 4ms/step - loss: 0.0104 - mae: 0.0104 - mape: 869.4542 - val_loss: 0.0097 - val_mae: 0.0097 - val_mape: 5.0834\n",
      "Epoch 23/60\n",
      "2642/2653 [============================>.] - ETA: 0s - loss: 0.0105 - mae: 0.0105 - mape: 857.6675\n",
      "Epoch 23: val_loss did not improve from 0.00940\n",
      "2653/2653 [==============================] - 11s 4ms/step - loss: 0.0105 - mae: 0.0105 - mape: 854.2626 - val_loss: 0.0100 - val_mae: 0.0100 - val_mape: 5.3361\n"
     ]
    },
    {
     "name": "stdout",
     "output_type": "stream",
     "text": [
      "Epoch 24/60\n",
      "2650/2653 [============================>.] - ETA: 0s - loss: 0.0105 - mae: 0.0105 - mape: 932.6497\n",
      "Epoch 24: val_loss improved from 0.00940 to 0.00926, saving model to C:\\Users\\Hp\\Desktop\\ml labs\\last labs\\lab 8 checkpoints\\E1-cp-0024-loss0.01.h5\n",
      "2653/2653 [==============================] - 14s 5ms/step - loss: 0.0105 - mae: 0.0105 - mape: 931.7511 - val_loss: 0.0093 - val_mae: 0.0093 - val_mape: 5.1778\n",
      "Epoch 25/60\n",
      "2647/2653 [============================>.] - ETA: 0s - loss: 0.0103 - mae: 0.0103 - mape: 960.3295\n",
      "Epoch 25: val_loss did not improve from 0.00926\n",
      "2653/2653 [==============================] - 11s 4ms/step - loss: 0.0103 - mae: 0.0103 - mape: 958.3218 - val_loss: 0.0094 - val_mae: 0.0094 - val_mape: 5.1863\n",
      "Epoch 26/60\n",
      "2649/2653 [============================>.] - ETA: 0s - loss: 0.0104 - mae: 0.0104 - mape: 941.0787\n",
      "Epoch 26: val_loss did not improve from 0.00926\n",
      "2653/2653 [==============================] - 11s 4ms/step - loss: 0.0104 - mae: 0.0104 - mape: 939.8178 - val_loss: 0.0107 - val_mae: 0.0107 - val_mape: 5.8383\n",
      "Epoch 27/60\n",
      "2652/2653 [============================>.] - ETA: 0s - loss: 0.0103 - mae: 0.0103 - mape: 967.9315\n",
      "Epoch 27: val_loss did not improve from 0.00926\n",
      "2653/2653 [==============================] - 11s 4ms/step - loss: 0.0103 - mae: 0.0103 - mape: 967.7267 - val_loss: 0.0112 - val_mae: 0.0112 - val_mape: 5.9234\n",
      "Epoch 28/60\n",
      "2647/2653 [============================>.] - ETA: 0s - loss: 0.0103 - mae: 0.0103 - mape: 901.9310\n",
      "Epoch 28: val_loss did not improve from 0.00926\n",
      "2653/2653 [==============================] - 11s 4ms/step - loss: 0.0103 - mae: 0.0103 - mape: 900.0455 - val_loss: 0.0099 - val_mae: 0.0099 - val_mape: 5.5093\n",
      "Epoch 29/60\n",
      "2644/2653 [============================>.] - ETA: 0s - loss: 0.0102 - mae: 0.0102 - mape: 862.7247\n",
      "Epoch 29: val_loss did not improve from 0.00926\n",
      "2653/2653 [==============================] - 11s 4ms/step - loss: 0.0102 - mae: 0.0102 - mape: 859.9498 - val_loss: 0.0103 - val_mae: 0.0103 - val_mape: 5.1466\n",
      "Epoch 30/60\n",
      "2651/2653 [============================>.] - ETA: 0s - loss: 0.0101 - mae: 0.0101 - mape: 887.4979\n",
      "Epoch 30: val_loss improved from 0.00926 to 0.00923, saving model to C:\\Users\\Hp\\Desktop\\ml labs\\last labs\\lab 8 checkpoints\\E1-cp-0030-loss0.01.h5\n",
      "2653/2653 [==============================] - 10s 4ms/step - loss: 0.0101 - mae: 0.0101 - mape: 886.9763 - val_loss: 0.0092 - val_mae: 0.0092 - val_mape: 4.7412\n",
      "Epoch 31/60\n",
      "2649/2653 [============================>.] - ETA: 0s - loss: 0.0103 - mae: 0.0103 - mape: 907.1498\n",
      "Epoch 31: val_loss did not improve from 0.00923\n",
      "2653/2653 [==============================] - 10s 4ms/step - loss: 0.0103 - mae: 0.0103 - mape: 905.9349 - val_loss: 0.0111 - val_mae: 0.0111 - val_mape: 5.5772\n",
      "Epoch 32/60\n",
      "2643/2653 [============================>.] - ETA: 0s - loss: 0.0100 - mae: 0.0100 - mape: 794.0316\n",
      "Epoch 32: val_loss did not improve from 0.00923\n",
      "2653/2653 [==============================] - 10s 4ms/step - loss: 0.0100 - mae: 0.0100 - mape: 791.1790 - val_loss: 0.0117 - val_mae: 0.0117 - val_mape: 5.9837\n",
      "Epoch 33/60\n",
      "2650/2653 [============================>.] - ETA: 0s - loss: 0.0102 - mae: 0.0102 - mape: 827.4037\n",
      "Epoch 33: val_loss did not improve from 0.00923\n",
      "2653/2653 [==============================] - 10s 4ms/step - loss: 0.0102 - mae: 0.0102 - mape: 826.6068 - val_loss: 0.0100 - val_mae: 0.0100 - val_mape: 4.7767\n",
      "Epoch 34/60\n",
      "2640/2653 [============================>.] - ETA: 0s - loss: 0.0100 - mae: 0.0100 - mape: 729.3513\n",
      "Epoch 34: val_loss did not improve from 0.00923\n",
      "2653/2653 [==============================] - 10s 4ms/step - loss: 0.0100 - mae: 0.0100 - mape: 725.9111 - val_loss: 0.0113 - val_mae: 0.0113 - val_mape: 5.8059\n",
      "Epoch 35/60\n",
      "2644/2653 [============================>.] - ETA: 0s - loss: 0.0100 - mae: 0.0100 - mape: 807.2571\n",
      "Epoch 35: val_loss improved from 0.00923 to 0.00906, saving model to C:\\Users\\Hp\\Desktop\\ml labs\\last labs\\lab 8 checkpoints\\E1-cp-0035-loss0.01.h5\n",
      "2653/2653 [==============================] - 11s 4ms/step - loss: 0.0100 - mae: 0.0100 - mape: 804.6592 - val_loss: 0.0091 - val_mae: 0.0091 - val_mape: 4.5411\n",
      "Epoch 36/60\n",
      "2642/2653 [============================>.] - ETA: 0s - loss: 0.0102 - mae: 0.0102 - mape: 728.0830\n",
      "Epoch 36: val_loss did not improve from 0.00906\n",
      "2653/2653 [==============================] - 10s 4ms/step - loss: 0.0102 - mae: 0.0102 - mape: 725.1940 - val_loss: 0.0103 - val_mae: 0.0103 - val_mape: 5.5075\n",
      "Epoch 37/60\n",
      "2639/2653 [============================>.] - ETA: 0s - loss: 0.0100 - mae: 0.0100 - mape: 833.4557\n",
      "Epoch 37: val_loss did not improve from 0.00906\n",
      "2653/2653 [==============================] - 10s 4ms/step - loss: 0.0100 - mae: 0.0100 - mape: 829.2067 - val_loss: 0.0093 - val_mae: 0.0093 - val_mape: 4.9698\n",
      "Epoch 38/60\n",
      "2650/2653 [============================>.] - ETA: 0s - loss: 0.0100 - mae: 0.0100 - mape: 957.3541\n",
      "Epoch 38: val_loss did not improve from 0.00906\n",
      "2653/2653 [==============================] - 10s 4ms/step - loss: 0.0100 - mae: 0.0100 - mape: 956.4312 - val_loss: 0.0139 - val_mae: 0.0139 - val_mape: 6.0740\n",
      "Epoch 39/60\n",
      "2646/2653 [============================>.] - ETA: 0s - loss: 0.0101 - mae: 0.0101 - mape: 792.8700\n",
      "Epoch 39: val_loss did not improve from 0.00906\n",
      "2653/2653 [==============================] - 10s 4ms/step - loss: 0.0101 - mae: 0.0101 - mape: 790.9158 - val_loss: 0.0093 - val_mae: 0.0093 - val_mape: 4.8840\n",
      "Epoch 40/60\n",
      "2647/2653 [============================>.] - ETA: 0s - loss: 0.0101 - mae: 0.0101 - mape: 740.4827\n",
      "Epoch 40: val_loss did not improve from 0.00906\n",
      "2653/2653 [==============================] - 10s 4ms/step - loss: 0.0101 - mae: 0.0101 - mape: 738.9346 - val_loss: 0.0111 - val_mae: 0.0111 - val_mape: 5.3367\n",
      "Epoch 41/60\n",
      "2638/2653 [============================>.] - ETA: 0s - loss: 0.0100 - mae: 0.0100 - mape: 858.2910\n",
      "Epoch 41: val_loss did not improve from 0.00906\n",
      "2653/2653 [==============================] - 10s 4ms/step - loss: 0.0100 - mae: 0.0100 - mape: 853.5938 - val_loss: 0.0110 - val_mae: 0.0110 - val_mape: 5.1428\n",
      "Epoch 42/60\n",
      "2639/2653 [============================>.] - ETA: 0s - loss: 0.0101 - mae: 0.0101 - mape: 867.4005\n",
      "Epoch 42: val_loss did not improve from 0.00906\n",
      "2653/2653 [==============================] - 11s 4ms/step - loss: 0.0101 - mae: 0.0101 - mape: 862.9792 - val_loss: 0.0093 - val_mae: 0.0093 - val_mape: 4.9153\n",
      "Epoch 43/60\n",
      "2638/2653 [============================>.] - ETA: 0s - loss: 0.0100 - mae: 0.0100 - mape: 815.3052\n",
      "Epoch 43: val_loss improved from 0.00906 to 0.00871, saving model to C:\\Users\\Hp\\Desktop\\ml labs\\last labs\\lab 8 checkpoints\\E1-cp-0043-loss0.01.h5\n",
      "2653/2653 [==============================] - 10s 4ms/step - loss: 0.0100 - mae: 0.0100 - mape: 810.8488 - val_loss: 0.0087 - val_mae: 0.0087 - val_mape: 4.6421\n",
      "Epoch 44/60\n",
      "2638/2653 [============================>.] - ETA: 0s - loss: 0.0099 - mae: 0.0099 - mape: 878.7324\n",
      "Epoch 44: val_loss did not improve from 0.00871\n",
      "2653/2653 [==============================] - 11s 4ms/step - loss: 0.0099 - mae: 0.0099 - mape: 873.9230 - val_loss: 0.0095 - val_mae: 0.0095 - val_mape: 4.9916\n",
      "Epoch 45/60\n",
      "2644/2653 [============================>.] - ETA: 0s - loss: 0.0099 - mae: 0.0099 - mape: 860.4583\n",
      "Epoch 45: val_loss did not improve from 0.00871\n",
      "2653/2653 [==============================] - 10s 4ms/step - loss: 0.0099 - mae: 0.0099 - mape: 857.6906 - val_loss: 0.0099 - val_mae: 0.0099 - val_mape: 5.2403\n",
      "Epoch 46/60\n",
      "2649/2653 [============================>.] - ETA: 0s - loss: 0.0099 - mae: 0.0099 - mape: 816.9164\n",
      "Epoch 46: val_loss did not improve from 0.00871\n",
      "2653/2653 [==============================] - 10s 4ms/step - loss: 0.0099 - mae: 0.0099 - mape: 815.8235 - val_loss: 0.0104 - val_mae: 0.0104 - val_mape: 5.3596\n",
      "Epoch 47/60\n",
      "2644/2653 [============================>.] - ETA: 0s - loss: 0.0098 - mae: 0.0098 - mape: 740.4628\n",
      "Epoch 47: val_loss did not improve from 0.00871\n",
      "2653/2653 [==============================] - 11s 4ms/step - loss: 0.0098 - mae: 0.0098 - mape: 738.0799 - val_loss: 0.0102 - val_mae: 0.0102 - val_mape: 4.9571\n",
      "Epoch 48/60\n",
      "2644/2653 [============================>.] - ETA: 0s - loss: 0.0098 - mae: 0.0098 - mape: 790.3130\n",
      "Epoch 48: val_loss did not improve from 0.00871\n"
     ]
    },
    {
     "name": "stdout",
     "output_type": "stream",
     "text": [
      "2653/2653 [==============================] - 11s 4ms/step - loss: 0.0098 - mae: 0.0098 - mape: 787.7706 - val_loss: 0.0097 - val_mae: 0.0097 - val_mape: 4.8212\n",
      "Epoch 49/60\n",
      "2639/2653 [============================>.] - ETA: 0s - loss: 0.0099 - mae: 0.0099 - mape: 933.7003\n",
      "Epoch 49: val_loss did not improve from 0.00871\n",
      "2653/2653 [==============================] - 11s 4ms/step - loss: 0.0099 - mae: 0.0099 - mape: 928.9384 - val_loss: 0.0097 - val_mae: 0.0097 - val_mape: 5.0731\n",
      "Epoch 50/60\n",
      "2649/2653 [============================>.] - ETA: 0s - loss: 0.0098 - mae: 0.0098 - mape: 851.9092\n",
      "Epoch 50: val_loss did not improve from 0.00871\n",
      "2653/2653 [==============================] - 12s 4ms/step - loss: 0.0098 - mae: 0.0098 - mape: 850.7680 - val_loss: 0.0106 - val_mae: 0.0106 - val_mape: 5.6069\n",
      "Epoch 51/60\n",
      "2645/2653 [============================>.] - ETA: 0s - loss: 0.0098 - mae: 0.0098 - mape: 814.8913\n",
      "Epoch 51: val_loss did not improve from 0.00871\n",
      "2653/2653 [==============================] - 12s 5ms/step - loss: 0.0098 - mae: 0.0098 - mape: 812.5747 - val_loss: 0.0096 - val_mae: 0.0096 - val_mape: 5.3707\n",
      "Epoch 52/60\n",
      "2637/2653 [============================>.] - ETA: 0s - loss: 0.0098 - mae: 0.0098 - mape: 863.7322\n",
      "Epoch 52: val_loss did not improve from 0.00871\n",
      "2653/2653 [==============================] - 11s 4ms/step - loss: 0.0098 - mae: 0.0098 - mape: 858.6799 - val_loss: 0.0090 - val_mae: 0.0090 - val_mape: 4.7350\n",
      "Epoch 53/60\n",
      "2643/2653 [============================>.] - ETA: 0s - loss: 0.0099 - mae: 0.0099 - mape: 829.7612\n",
      "Epoch 53: val_loss did not improve from 0.00871\n",
      "2653/2653 [==============================] - 11s 4ms/step - loss: 0.0099 - mae: 0.0099 - mape: 826.7795 - val_loss: 0.0101 - val_mae: 0.0101 - val_mape: 5.2359\n",
      "Epoch 54/60\n",
      "2640/2653 [============================>.] - ETA: 0s - loss: 0.0099 - mae: 0.0099 - mape: 865.9684\n",
      "Epoch 54: val_loss did not improve from 0.00871\n",
      "2653/2653 [==============================] - 10s 4ms/step - loss: 0.0099 - mae: 0.0099 - mape: 861.8810 - val_loss: 0.0115 - val_mae: 0.0115 - val_mape: 5.9228\n",
      "Epoch 55/60\n",
      "2642/2653 [============================>.] - ETA: 0s - loss: 0.0098 - mae: 0.0098 - mape: 780.4346\n",
      "Epoch 55: val_loss did not improve from 0.00871\n",
      "2653/2653 [==============================] - 10s 4ms/step - loss: 0.0098 - mae: 0.0098 - mape: 777.3366 - val_loss: 0.0091 - val_mae: 0.0091 - val_mape: 4.9056\n",
      "Epoch 56/60\n",
      "2650/2653 [============================>.] - ETA: 0s - loss: 0.0099 - mae: 0.0099 - mape: 677.5950\n",
      "Epoch 56: val_loss did not improve from 0.00871\n",
      "2653/2653 [==============================] - 10s 4ms/step - loss: 0.0099 - mae: 0.0099 - mape: 676.9424 - val_loss: 0.0090 - val_mae: 0.0090 - val_mape: 4.6466\n",
      "Epoch 57/60\n",
      "2639/2653 [============================>.] - ETA: 0s - loss: 0.0098 - mae: 0.0098 - mape: 872.1191\n",
      "Epoch 57: val_loss did not improve from 0.00871\n",
      "2653/2653 [==============================] - 10s 4ms/step - loss: 0.0098 - mae: 0.0098 - mape: 867.6718 - val_loss: 0.0095 - val_mae: 0.0095 - val_mape: 5.0835\n",
      "Epoch 58/60\n",
      "2643/2653 [============================>.] - ETA: 0s - loss: 0.0098 - mae: 0.0098 - mape: 818.3949\n",
      "Epoch 58: val_loss did not improve from 0.00871\n",
      "2653/2653 [==============================] - 11s 4ms/step - loss: 0.0098 - mae: 0.0098 - mape: 815.4542 - val_loss: 0.0095 - val_mae: 0.0095 - val_mape: 4.9638\n",
      "Epoch 59/60\n",
      "2645/2653 [============================>.] - ETA: 0s - loss: 0.0098 - mae: 0.0098 - mape: 696.5118\n",
      "Epoch 59: val_loss did not improve from 0.00871\n",
      "2653/2653 [==============================] - 10s 4ms/step - loss: 0.0098 - mae: 0.0098 - mape: 694.5338 - val_loss: 0.0098 - val_mae: 0.0098 - val_mape: 5.0854\n",
      "Epoch 60/60\n",
      "2649/2653 [============================>.] - ETA: 0s - loss: 0.0097 - mae: 0.0097 - mape: 840.6199\n",
      "Epoch 60: val_loss did not improve from 0.00871\n",
      "2653/2653 [==============================] - 10s 4ms/step - loss: 0.0097 - mae: 0.0097 - mape: 839.4936 - val_loss: 0.0107 - val_mae: 0.0107 - val_mape: 5.2310\n"
     ]
    }
   ],
   "source": [
    "epochs = 60\n",
    "verbose = 1 #0\n",
    "batch_size = 32\n",
    "History = model.fit(train_X,\n",
    "                        train_y,\n",
    "                        batch_size=batch_size,   \n",
    "                        epochs = epochs, \n",
    "                        validation_data = (validation_X,validation_y),\n",
    "                        callbacks=callbacks,verbose = verbose)"
   ]
  },
  {
   "cell_type": "code",
   "execution_count": 24,
   "metadata": {},
   "outputs": [
    {
     "name": "stdout",
     "output_type": "stream",
     "text": [
      "379/379 [==============================] - 1s 2ms/step\n",
      "Mean Absolute Error (MAE): 135.91\n",
      "Median Absolute Error (MedAE): 108.92\n",
      "Mean Squared Error (MSE): 32336.48\n",
      "Root Mean Squared Error (RMSE): 179.82\n",
      "Mean Absolute Percentage Error (MAPE): 0.87 %\n",
      "Median Absolute Percentage Error (MDAPE): 0.69 %\n",
      "\n",
      "\n",
      "y_test_unscaled.shape=  (12105, 1)\n",
      "y_pred.shape=  (12105, 1)\n"
     ]
    }
   ],
   "source": [
    "\n",
    "model = load_model(r'C:\\Users\\Hp\\Desktop\\ml labs\\last labs\\lab 8 checkpoints\\E1-cp-0049-loss0.01.h5')\n",
    "\n",
    "y_pred_scaled   = model.predict(test_X)\n",
    "y_pred          = scaler.inverse_transform(y_pred_scaled)\n",
    "y_test_unscaled = scaler.inverse_transform(test_y)\n",
    "# Mean Absolute Error (MAE)\n",
    "MAE = np.mean(abs(y_pred - y_test_unscaled)) \n",
    "print('Mean Absolute Error (MAE): ' + str(np.round(MAE, 2)))\n",
    "\n",
    "# Median Absolute Error (MedAE)\n",
    "MEDAE = np.median(abs(y_pred - y_test_unscaled))\n",
    "print('Median Absolute Error (MedAE): ' + str(np.round(MEDAE, 2)))\n",
    "\n",
    "# Mean Squared Error (MSE)\n",
    "MSE = np.square(np.subtract(y_pred, y_test_unscaled)).mean()\n",
    "print('Mean Squared Error (MSE): ' + str(np.round(MSE, 2)))\n",
    "\n",
    "# Root Mean Squarred Error (RMSE) \n",
    "RMSE = np.sqrt(np.mean(np.square(y_pred - y_test_unscaled)))\n",
    "print('Root Mean Squared Error (RMSE): ' + str(np.round(RMSE, 2)))\n",
    "\n",
    "# Mean Absolute Percentage Error (MAPE)\n",
    "MAPE = np.mean((np.abs(np.subtract(y_test_unscaled, y_pred)/ y_test_unscaled))) * 100\n",
    "print('Mean Absolute Percentage Error (MAPE): ' + str(np.round(MAPE, 2)) + ' %')\n",
    "\n",
    "# Median Absolute Percentage Error (MDAPE)\n",
    "MDAPE = np.median((np.abs(np.subtract(y_test_unscaled, y_pred)/ y_test_unscaled))) * 100\n",
    "print('Median Absolute Percentage Error (MDAPE): ' + str(np.round(MDAPE, 2)) + ' %')\n",
    "\n",
    "print('\\n\\ny_test_unscaled.shape= ',y_test_unscaled.shape)\n",
    "print('y_pred.shape= ',y_pred.shape)"
   ]
  },
  {
   "cell_type": "code",
   "execution_count": 25,
   "metadata": {},
   "outputs": [],
   "source": [
    "checkpoints = r'C:\\Users\\Hp\\Desktop\\ml labs\\last labs\\lab 8 checkpoints\\E2-cp-{epoch:04d}-loss{val_loss:.2f}.h5'\n",
    "model=r'C:\\Users\\Hp\\Desktop\\ml labs\\last labs\\lab 8 checkpoints\\E1-cp-0049-loss0.01.h5'\n",
    "start_epoch= 50"
   ]
  },
  {
   "cell_type": "code",
   "execution_count": 26,
   "metadata": {},
   "outputs": [
    {
     "name": "stdout",
     "output_type": "stream",
     "text": [
      "[INFO] loading C:\\Users\\Hp\\Desktop\\ml labs\\last labs\\lab 8 checkpoints\\E1-cp-0049-loss0.01.h5...\n",
      "[INFO] old learning rate: 0.0010000000474974513\n",
      "[INFO] new learning rate: 9.999999747378752e-05\n"
     ]
    }
   ],
   "source": [
    "# construct the callback to save only the *best* model to disk\n",
    "# based on the validation loss\n",
    "EpochCheckpoint1 = ModelCheckpoint(checkpoints,\n",
    "                             monitor=\"val_loss\",\n",
    "                             save_best_only=True, \n",
    "                             verbose=1)\n",
    "TrainingMonitor1=TrainingMonitor(FIG_PATH, jsonPath=JSON_PATH, startAt=start_epoch)\n",
    "\n",
    "# construct the set of callbacks\n",
    "callbacks = [EpochCheckpoint1,TrainingMonitor1]\n",
    "# if there is no specific model checkpoint supplied, then initialize\n",
    "# the network and compile the model\n",
    "if model is None:\n",
    "    print(\"[INFO] compiling model...\")\n",
    "    model = PC.build(time_steps=24, num_features=21, reg=0.0005)\n",
    "    opt = Adam(1e-3)\n",
    "    model.compile(loss= 'mae', optimizer=opt, metrics=[\"mae\", \"mape\"])\n",
    "# otherwise, load the checkpoint from disk\n",
    "else:\n",
    "    print(\"[INFO] loading {}...\".format(model))\n",
    "    model = load_model(model)\n",
    "\n",
    "    # update the learning rate\n",
    "    print(\"[INFO] old learning rate: {}\".format(K.get_value(model.optimizer.lr)))\n",
    "    K.set_value(model.optimizer.lr, 1e-4)\n",
    "    print(\"[INFO] new learning rate: {}\".format(K.get_value(model.optimizer.lr)))"
   ]
  },
  {
   "cell_type": "code",
   "execution_count": 1,
   "metadata": {},
   "outputs": [
    {
     "ename": "NameError",
     "evalue": "name 'model' is not defined",
     "output_type": "error",
     "traceback": [
      "\u001b[1;31m---------------------------------------------------------------------------\u001b[0m",
      "\u001b[1;31mNameError\u001b[0m                                 Traceback (most recent call last)",
      "\u001b[1;32m~\\AppData\\Local\\Temp\\ipykernel_9280\\2337448289.py\u001b[0m in \u001b[0;36m<module>\u001b[1;34m\u001b[0m\n\u001b[0;32m      2\u001b[0m \u001b[0mverbose\u001b[0m \u001b[1;33m=\u001b[0m \u001b[1;36m1\u001b[0m \u001b[1;31m#0\u001b[0m\u001b[1;33m\u001b[0m\u001b[1;33m\u001b[0m\u001b[0m\n\u001b[0;32m      3\u001b[0m \u001b[0mbatch_size\u001b[0m \u001b[1;33m=\u001b[0m \u001b[1;36m32\u001b[0m\u001b[1;33m\u001b[0m\u001b[1;33m\u001b[0m\u001b[0m\n\u001b[1;32m----> 4\u001b[1;33m History = model.fit(train_X,\n\u001b[0m\u001b[0;32m      5\u001b[0m                         \u001b[0mtrain_y\u001b[0m\u001b[1;33m,\u001b[0m\u001b[1;33m\u001b[0m\u001b[1;33m\u001b[0m\u001b[0m\n\u001b[0;32m      6\u001b[0m                         \u001b[0mbatch_size\u001b[0m\u001b[1;33m=\u001b[0m\u001b[0mbatch_size\u001b[0m\u001b[1;33m,\u001b[0m\u001b[1;33m\u001b[0m\u001b[1;33m\u001b[0m\u001b[0m\n",
      "\u001b[1;31mNameError\u001b[0m: name 'model' is not defined"
     ]
    }
   ],
   "source": [
    "epochs = 20\n",
    "verbose = 1 #0\n",
    "batch_size = 32\n",
    "History = model.fit(train_X,\n",
    "                        train_y,\n",
    "                        batch_size=batch_size,   \n",
    "                        epochs = epochs, \n",
    "                        validation_data = (validation_X,validation_y),\n",
    "                        callbacks=callbacks,\n",
    "                        verbose = verbose)"
   ]
  },
  {
   "cell_type": "code",
   "execution_count": 19,
   "metadata": {},
   "outputs": [
    {
     "name": "stdout",
     "output_type": "stream",
     "text": [
      "379/379 [==============================] - 1s 2ms/step\n",
      "Mean Absolute Error (MAE): 103.3\n",
      "Median Absolute Error (MedAE): 82.18\n",
      "Mean Squared Error (MSE): 18772.44\n",
      "Root Mean Squared Error (RMSE): 137.01\n",
      "Mean Absolute Percentage Error (MAPE): 0.71 %\n",
      "Median Absolute Percentage Error (MDAPE): 0.57 %\n",
      "\n",
      "\n",
      "y_test_unscaled.shape=  (12105, 1)\n",
      "y_pred.shape=  (12105, 1)\n"
     ]
    }
   ],
   "source": [
    "\n",
    "model = load_model(r'C:\\Users\\Administrator\\Downloads\\ML Lab\\checkpoint\\ML Lab\\lab8\\E2-cp-0008-loss0.01.h5')\n",
    "\n",
    "y_pred_scaled   = model.predict(test_X)\n",
    "y_pred          = scaler.inverse_transform(y_pred_scaled)\n",
    "y_test_unscaled = scaler.inverse_transform(test_y)\n",
    "# Mean Absolute Error (MAE)\n",
    "MAE = np.mean(abs(y_pred - y_test_unscaled)) \n",
    "print('Mean Absolute Error (MAE): ' + str(np.round(MAE, 2)))\n",
    "\n",
    "# Median Absolute Error (MedAE)\n",
    "MEDAE = np.median(abs(y_pred - y_test_unscaled))\n",
    "print('Median Absolute Error (MedAE): ' + str(np.round(MEDAE, 2)))\n",
    "\n",
    "# Mean Squared Error (MSE)\n",
    "MSE = np.square(np.subtract(y_pred, y_test_unscaled)).mean()\n",
    "print('Mean Squared Error (MSE): ' + str(np.round(MSE, 2)))\n",
    "\n",
    "# Root Mean Squarred Error (RMSE) \n",
    "RMSE = np.sqrt(np.mean(np.square(y_pred - y_test_unscaled)))\n",
    "print('Root Mean Squared Error (RMSE): ' + str(np.round(RMSE, 2)))\n",
    "\n",
    "# Mean Absolute Percentage Error (MAPE)\n",
    "MAPE = np.mean((np.abs(np.subtract(y_test_unscaled, y_pred)/ y_test_unscaled))) * 100\n",
    "print('Mean Absolute Percentage Error (MAPE): ' + str(np.round(MAPE, 2)) + ' %')\n",
    "\n",
    "# Median Absolute Percentage Error (MDAPE)\n",
    "MDAPE = np.median((np.abs(np.subtract(y_test_unscaled, y_pred)/ y_test_unscaled))) * 100\n",
    "print('Median Absolute Percentage Error (MDAPE): ' + str(np.round(MDAPE, 2)) + ' %')\n",
    "\n",
    "print('\\n\\ny_test_unscaled.shape= ',y_test_unscaled.shape)\n",
    "print('y_pred.shape= ',y_pred.shape)"
   ]
  },
  {
   "cell_type": "markdown",
   "metadata": {},
   "source": [
    "# lab report "
   ]
  },
  {
   "cell_type": "markdown",
   "metadata": {},
   "source": [
    "## Lab 1"
   ]
  },
  {
   "cell_type": "code",
   "execution_count": null,
   "metadata": {},
   "outputs": [],
   "source": []
  }
 ],
 "metadata": {
  "kernelspec": {
   "display_name": "Python 3 (ipykernel)",
   "language": "python",
   "name": "python3"
  },
  "language_info": {
   "codemirror_mode": {
    "name": "ipython",
    "version": 3
   },
   "file_extension": ".py",
   "mimetype": "text/x-python",
   "name": "python",
   "nbconvert_exporter": "python",
   "pygments_lexer": "ipython3",
   "version": "3.7.1"
  }
 },
 "nbformat": 4,
 "nbformat_minor": 4
}
